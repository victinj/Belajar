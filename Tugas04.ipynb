{
  "nbformat": 4,
  "nbformat_minor": 0,
  "metadata": {
    "colab": {
      "name": "Tugas04.ipynb",
      "provenance": [],
      "collapsed_sections": [
        "DS5hqz1d5l6G",
        "2sREwTc58LMd",
        "LQQp_WlR7ndX",
        "2h7P2NtbQwvE",
        "Ltgvtxm_qCiJ"
      ],
      "authorship_tag": "ABX9TyPiDuou938X7H38/96Yhf7w",
      "include_colab_link": true
    },
    "kernelspec": {
      "name": "python3",
      "display_name": "Python 3"
    },
    "language_info": {
      "name": "python"
    }
  },
  "cells": [
    {
      "cell_type": "markdown",
      "metadata": {
        "id": "view-in-github",
        "colab_type": "text"
      },
      "source": [
        "<a href=\"https://colab.research.google.com/github/victinj/Belajar/blob/main/Tugas04.ipynb\" target=\"_parent\"><img src=\"https://colab.research.google.com/assets/colab-badge.svg\" alt=\"Open In Colab\"/></a>"
      ]
    },
    {
      "cell_type": "markdown",
      "metadata": {
        "id": "uAbZLAZX5kmZ"
      },
      "source": [
        "# **DIABETES DATASET**"
      ]
    },
    {
      "cell_type": "markdown",
      "metadata": {
        "id": "DS5hqz1d5l6G"
      },
      "source": [
        "## Diabetes\n"
      ]
    },
    {
      "cell_type": "markdown",
      "metadata": {
        "id": "t7BRbY2T6TxC"
      },
      "source": [
        "### Pengertian\n",
        "\n",
        "\n",
        "Diabetes merupakan penyakit kronis yang berlangsung jangka panjang yang ditandai dengan meningkatnya kadar gula darah (glukosa) hingga di atas nilai normal."
      ]
    },
    {
      "cell_type": "markdown",
      "metadata": {
        "id": "ltmu8hIs6xXR"
      },
      "source": [
        "### Faktor Risiko\n",
        "\n",
        "Diabetes tipe 1\n",
        "\n",
        "* Riwayat keluarga\n",
        "\n",
        "* Geografi (area hunian)\n",
        "\n",
        "* Usia (4 - 14 tahun)\n",
        "\n",
        "Diabetes tipe 2\n",
        "\n",
        "* Obesitas\n",
        "\n",
        "* Usia (45 tahun keatas)\n",
        "\n",
        "* Riwayat diabetes saat hamil\n"
      ]
    },
    {
      "cell_type": "markdown",
      "metadata": {
        "id": "2sREwTc58LMd"
      },
      "source": [
        "## Principal Component Analysis (PCA)\n",
        "\n"
      ]
    },
    {
      "cell_type": "markdown",
      "metadata": {
        "id": "vBzbPotr8k5A"
      },
      "source": [
        "### Pengertian\n",
        "\n",
        "PCA atau Principal Component Analysis adalah metode statistika yang menggunakan transformasi ortogonal untuk mengubah data "
      ]
    },
    {
      "cell_type": "markdown",
      "metadata": {
        "id": "OKPiIJI19bUu"
      },
      "source": [
        "### Pengaplikasian\n",
        "\n",
        "* Reduksi dimensi dataset\n",
        "\n",
        "* Mempercepat algoritma ML\n",
        "\n",
        "* Visualisasi data\n"
      ]
    },
    {
      "cell_type": "markdown",
      "metadata": {
        "id": "LQQp_WlR7ndX"
      },
      "source": [
        "## Pengolahan data"
      ]
    },
    {
      "cell_type": "markdown",
      "metadata": {
        "id": "fSFwjYUt7w_p"
      },
      "source": [
        "### Import Library"
      ]
    },
    {
      "cell_type": "code",
      "metadata": {
        "id": "hbYjjc8s79y_"
      },
      "source": [
        "# untuk olah data\n",
        "import math\n",
        "import pandas as pd\n",
        "import matplotlib.pyplot as plt\n",
        "import numpy as np\n",
        "import seaborn as sns\n",
        "from numpy import mean, median\n",
        "from sklearn.utils.multiclass import type_of_target\n",
        "# untuk model\n",
        "from sklearn.preprocessing import MinMaxScaler\n",
        "from sklearn.preprocessing import StandardScaler\n",
        "from sklearn.metrics import accuracy_score\n",
        "from sklearn.model_selection import cross_val_score\n",
        "from sklearn.model_selection import RepeatedStratifiedKFold\n",
        "from sklearn.pipeline import Pipeline\n",
        "from sklearn.decomposition import PCA\n",
        "from sklearn.linear_model import LogisticRegression\n",
        "from sklearn.svm import SVC\n",
        "from scipy import stats\n",
        "from scipy.stats import loguniform\n",
        "from sklearn.model_selection import RandomizedSearchCV\n",
        "from matplotlib import pyplot"
      ],
      "execution_count": null,
      "outputs": []
    },
    {
      "cell_type": "markdown",
      "metadata": {
        "id": "75FLOK7A787T"
      },
      "source": [
        "### Dataset"
      ]
    },
    {
      "cell_type": "markdown",
      "metadata": {
        "id": "8YffCbCzCdaN"
      },
      "source": [
        "Dataset dari pasien diabetes"
      ]
    },
    {
      "cell_type": "code",
      "metadata": {
        "colab": {
          "base_uri": "https://localhost:8080/",
          "height": 204
        },
        "id": "UVumlYSY_BjQ",
        "outputId": "9a8153ff-022b-4052-f9ed-ad864cb0e587"
      },
      "source": [
        "df = pd.read_csv(\"/content/diabetes.csv\")\n",
        "df.head()"
      ],
      "execution_count": null,
      "outputs": [
        {
          "output_type": "execute_result",
          "data": {
            "text/html": [
              "<div>\n",
              "<style scoped>\n",
              "    .dataframe tbody tr th:only-of-type {\n",
              "        vertical-align: middle;\n",
              "    }\n",
              "\n",
              "    .dataframe tbody tr th {\n",
              "        vertical-align: top;\n",
              "    }\n",
              "\n",
              "    .dataframe thead th {\n",
              "        text-align: right;\n",
              "    }\n",
              "</style>\n",
              "<table border=\"1\" class=\"dataframe\">\n",
              "  <thead>\n",
              "    <tr style=\"text-align: right;\">\n",
              "      <th></th>\n",
              "      <th>Pregnancies</th>\n",
              "      <th>Glucose</th>\n",
              "      <th>BloodPressure</th>\n",
              "      <th>SkinThickness</th>\n",
              "      <th>Insulin</th>\n",
              "      <th>BMI</th>\n",
              "      <th>DiabetesPedigreeFunction</th>\n",
              "      <th>Age</th>\n",
              "      <th>Outcome</th>\n",
              "    </tr>\n",
              "  </thead>\n",
              "  <tbody>\n",
              "    <tr>\n",
              "      <th>0</th>\n",
              "      <td>6</td>\n",
              "      <td>148</td>\n",
              "      <td>72</td>\n",
              "      <td>35</td>\n",
              "      <td>0</td>\n",
              "      <td>33.6</td>\n",
              "      <td>0.627</td>\n",
              "      <td>50</td>\n",
              "      <td>1</td>\n",
              "    </tr>\n",
              "    <tr>\n",
              "      <th>1</th>\n",
              "      <td>1</td>\n",
              "      <td>85</td>\n",
              "      <td>66</td>\n",
              "      <td>29</td>\n",
              "      <td>0</td>\n",
              "      <td>26.6</td>\n",
              "      <td>0.351</td>\n",
              "      <td>31</td>\n",
              "      <td>0</td>\n",
              "    </tr>\n",
              "    <tr>\n",
              "      <th>2</th>\n",
              "      <td>8</td>\n",
              "      <td>183</td>\n",
              "      <td>64</td>\n",
              "      <td>0</td>\n",
              "      <td>0</td>\n",
              "      <td>23.3</td>\n",
              "      <td>0.672</td>\n",
              "      <td>32</td>\n",
              "      <td>1</td>\n",
              "    </tr>\n",
              "    <tr>\n",
              "      <th>3</th>\n",
              "      <td>1</td>\n",
              "      <td>89</td>\n",
              "      <td>66</td>\n",
              "      <td>23</td>\n",
              "      <td>94</td>\n",
              "      <td>28.1</td>\n",
              "      <td>0.167</td>\n",
              "      <td>21</td>\n",
              "      <td>0</td>\n",
              "    </tr>\n",
              "    <tr>\n",
              "      <th>4</th>\n",
              "      <td>0</td>\n",
              "      <td>137</td>\n",
              "      <td>40</td>\n",
              "      <td>35</td>\n",
              "      <td>168</td>\n",
              "      <td>43.1</td>\n",
              "      <td>2.288</td>\n",
              "      <td>33</td>\n",
              "      <td>1</td>\n",
              "    </tr>\n",
              "  </tbody>\n",
              "</table>\n",
              "</div>"
            ],
            "text/plain": [
              "   Pregnancies  Glucose  BloodPressure  ...  DiabetesPedigreeFunction  Age  Outcome\n",
              "0            6      148             72  ...                     0.627   50        1\n",
              "1            1       85             66  ...                     0.351   31        0\n",
              "2            8      183             64  ...                     0.672   32        1\n",
              "3            1       89             66  ...                     0.167   21        0\n",
              "4            0      137             40  ...                     2.288   33        1\n",
              "\n",
              "[5 rows x 9 columns]"
            ]
          },
          "metadata": {
            "tags": []
          },
          "execution_count": 16
        }
      ]
    },
    {
      "cell_type": "markdown",
      "metadata": {
        "id": "ytoIEpQICjqX"
      },
      "source": [
        "Korelasi antara outcome dengan kolom atau feature yang ada"
      ]
    },
    {
      "cell_type": "code",
      "metadata": {
        "colab": {
          "base_uri": "https://localhost:8080/",
          "height": 667
        },
        "id": "-ujH-XxWA3sR",
        "outputId": "e8af7049-9965-4d35-a08a-bdc7e6e3be7c"
      },
      "source": [
        "plt.figure(figsize=(10,10))\n",
        "ax = sns.heatmap(df.corr(), annot = True,  linewidths=2, square = True, fmt = '.0%')"
      ],
      "execution_count": null,
      "outputs": [
        {
          "output_type": "display_data",
          "data": {
            "image/png": "[encoded data removed]",
            "text/plain": [
              "<Figure size 720x720 with 2 Axes>"
            ]
          },
          "metadata": {
            "tags": [],
            "needs_background": "light"
          }
        }
      ]
    },
    {
      "cell_type": "markdown",
      "metadata": {
        "id": "Zi8vCbpp_NMX"
      },
      "source": [
        "### Explanatory Data Analysis"
      ]
    },
    {
      "cell_type": "code",
      "metadata": {
        "colab": {
          "base_uri": "https://localhost:8080/"
        },
        "id": "PB1_doq8GZfD",
        "outputId": "37c4b2a9-97ab-496f-fb4c-7570171bf212"
      },
      "source": [
        "# mengecek nilai yang hilang\n",
        "df.isnull().sum()"
      ],
      "execution_count": null,
      "outputs": [
        {
          "output_type": "execute_result",
          "data": {
            "text/plain": [
              "Pregnancies                 0\n",
              "Glucose                     0\n",
              "BloodPressure               0\n",
              "SkinThickness               0\n",
              "Insulin                     0\n",
              "BMI                         0\n",
              "DiabetesPedigreeFunction    0\n",
              "Age                         0\n",
              "Outcome                     0\n",
              "dtype: int64"
            ]
          },
          "metadata": {
            "tags": []
          },
          "execution_count": 18
        }
      ]
    },
    {
      "cell_type": "markdown",
      "metadata": {
        "id": "__BCJIdSDDWy"
      },
      "source": [
        "#### Pregnancies\n",
        "\n",
        "Jumlah kehamilan"
      ]
    },
    {
      "cell_type": "code",
      "metadata": {
        "colab": {
          "base_uri": "https://localhost:8080/",
          "height": 282
        },
        "id": "5jhKLm1SCwOO",
        "outputId": "0154ef94-de8c-4932-b3b7-e981ea0496bb"
      },
      "source": [
        "df['Pregnancies'].hist()"
      ],
      "execution_count": null,
      "outputs": [
        {
          "output_type": "execute_result",
          "data": {
            "text/plain": [
              "<matplotlib.axes._subplots.AxesSubplot at 0x7fb04f1dd390>"
            ]
          },
          "metadata": {
            "tags": []
          },
          "execution_count": 19
        },
        {
          "output_type": "display_data",
          "data": {
            "image/png": "[encoded data removed]",
            "text/plain": [
              "<Figure size 432x288 with 1 Axes>"
            ]
          },
          "metadata": {
            "tags": [],
            "needs_background": "light"
          }
        }
      ]
    },
    {
      "cell_type": "markdown",
      "metadata": {
        "id": "G__7gdXLG5J6"
      },
      "source": [
        "Jumlah kehamilan pada data tidak memiliki nilai yang abnormal"
      ]
    },
    {
      "cell_type": "markdown",
      "metadata": {
        "id": "IUGkjQXCDrUT"
      },
      "source": [
        "#### Glucose\n",
        "\n",
        "Jumlah konsentrasi glukosa dalam 2 jam di dalam tes oral toleransi glukosa"
      ]
    },
    {
      "cell_type": "code",
      "metadata": {
        "colab": {
          "base_uri": "https://localhost:8080/",
          "height": 282
        },
        "id": "dF-_X3I_ES__",
        "outputId": "461db6a5-cede-4055-9e15-8830a147b8d1"
      },
      "source": [
        "df['Glucose'].hist()"
      ],
      "execution_count": null,
      "outputs": [
        {
          "output_type": "execute_result",
          "data": {
            "text/plain": [
              "<matplotlib.axes._subplots.AxesSubplot at 0x7fb04f0fc090>"
            ]
          },
          "metadata": {
            "tags": []
          },
          "execution_count": 20
        },
        {
          "output_type": "display_data",
          "data": {
            "image/png": "[encoded data removed]",
            "text/plain": [
              "<Figure size 432x288 with 1 Axes>"
            ]
          },
          "metadata": {
            "tags": [],
            "needs_background": "light"
          }
        }
      ]
    },
    {
      "cell_type": "markdown",
      "metadata": {
        "id": "BBPQDO_tHIEb"
      },
      "source": [
        "Kadar glukosa manusia berkisar antara\n",
        "\n",
        "* 70 - 130 miligram/desiliter sebelum makan\n",
        "\n",
        "* < 140 miligram/desiliter setelah 2 jam setelah makan\n",
        "\n",
        "* < 100 miligram/desiliter saat puasa\n",
        "\n",
        "* 100 - 140 miligram/desiliter waktu tidur\n",
        "\n",
        "terdapat nilai yang abnormal berupa 0"
      ]
    },
    {
      "cell_type": "code",
      "metadata": {
        "colab": {
          "base_uri": "https://localhost:8080/"
        },
        "id": "yCjvrbBcIa86",
        "outputId": "a237cec6-1365-4bc8-c920-9147ae7c7efd"
      },
      "source": [
        "df[df['Glucose'] == 0].groupby('Outcome')['Pregnancies'].count()"
      ],
      "execution_count": null,
      "outputs": [
        {
          "output_type": "execute_result",
          "data": {
            "text/plain": [
              "Outcome\n",
              "0    3\n",
              "1    2\n",
              "Name: Pregnancies, dtype: int64"
            ]
          },
          "metadata": {
            "tags": []
          },
          "execution_count": 21
        }
      ]
    },
    {
      "cell_type": "markdown",
      "metadata": {
        "id": "b5IQtTlRETlt"
      },
      "source": [
        "#### BloodPressure\n",
        "\n",
        "Tekanan darah diastolik\n",
        "\n"
      ]
    },
    {
      "cell_type": "code",
      "metadata": {
        "colab": {
          "base_uri": "https://localhost:8080/",
          "height": 282
        },
        "id": "4qENKhzbEykZ",
        "outputId": "e54d9bcd-11f4-413d-b5d0-7e01a5fd900e"
      },
      "source": [
        "df['BloodPressure'].hist()"
      ],
      "execution_count": null,
      "outputs": [
        {
          "output_type": "execute_result",
          "data": {
            "text/plain": [
              "<matplotlib.axes._subplots.AxesSubplot at 0x7fb04f096390>"
            ]
          },
          "metadata": {
            "tags": []
          },
          "execution_count": 22
        },
        {
          "output_type": "display_data",
          "data": {
            "image/png": "[encoded data removed]",
            "text/plain": [
              "<Figure size 432x288 with 1 Axes>"
            ]
          },
          "metadata": {
            "tags": [],
            "needs_background": "light"
          }
        }
      ]
    },
    {
      "cell_type": "markdown",
      "metadata": {
        "id": "N7IfFR4zM6OT"
      },
      "source": [
        "Tekanan darah normal berkisar\n",
        "\n",
        "* 56 - 71 pada anak anak\n",
        "\n",
        "* 66 - 80 pada remaja\n",
        "\n",
        "* 60 - 80 pada dewasa\n",
        "\n",
        "* < 90 pada usia lanjut\n",
        "\n",
        "terdapat nilai abnormal berupa 0 yang tidak sesuai dengan tekanan darah manusia pada umumnya"
      ]
    },
    {
      "cell_type": "code",
      "metadata": {
        "colab": {
          "base_uri": "https://localhost:8080/"
        },
        "id": "DuXbvVzYFEXr",
        "outputId": "b9707638-50e4-4c8b-85a7-b232fccd1bc5"
      },
      "source": [
        "df[df['BloodPressure'] == 0].groupby('Outcome')['Pregnancies'].count()"
      ],
      "execution_count": null,
      "outputs": [
        {
          "output_type": "execute_result",
          "data": {
            "text/plain": [
              "Outcome\n",
              "0    19\n",
              "1    16\n",
              "Name: Pregnancies, dtype: int64"
            ]
          },
          "metadata": {
            "tags": []
          },
          "execution_count": 23
        }
      ]
    },
    {
      "cell_type": "markdown",
      "metadata": {
        "id": "N0YDPQVyEyFE"
      },
      "source": [
        "#### SkinThickness\n",
        "\n",
        "Ketebalan lipatan kulit\n"
      ]
    },
    {
      "cell_type": "code",
      "metadata": {
        "colab": {
          "base_uri": "https://localhost:8080/",
          "height": 282
        },
        "id": "BcE7vCiaOKwv",
        "outputId": "752f5df9-5620-4e90-acb5-d19e02a17695"
      },
      "source": [
        "df['SkinThickness'].hist()"
      ],
      "execution_count": null,
      "outputs": [
        {
          "output_type": "execute_result",
          "data": {
            "text/plain": [
              "<matplotlib.axes._subplots.AxesSubplot at 0x7fb04f027390>"
            ]
          },
          "metadata": {
            "tags": []
          },
          "execution_count": 24
        },
        {
          "output_type": "display_data",
          "data": {
            "image/png": "[encoded data removed]",
            "text/plain": [
              "<Figure size 432x288 with 1 Axes>"
            ]
          },
          "metadata": {
            "tags": [],
            "needs_background": "light"
          }
        }
      ]
    },
    {
      "cell_type": "markdown",
      "metadata": {
        "id": "S-orAKq2QhEN"
      },
      "source": [
        "Ketebalan lipatan kulit manusia pada normalnya diatas 2.5 mm untuk laki-laki dan 18 mm untuk perempuan\n",
        "\n",
        "terdapat ketebalan lipatan kulit yang bernilai 0 yang tidak seharusnya dimiliki manusia"
      ]
    },
    {
      "cell_type": "code",
      "metadata": {
        "colab": {
          "base_uri": "https://localhost:8080/"
        },
        "id": "m53-LW2eRLGn",
        "outputId": "fce2e013-b523-4cb3-ecd0-13ccc2347763"
      },
      "source": [
        "df[df['SkinThickness'] == 0].groupby('Outcome')['Pregnancies'].count()"
      ],
      "execution_count": null,
      "outputs": [
        {
          "output_type": "execute_result",
          "data": {
            "text/plain": [
              "Outcome\n",
              "0    139\n",
              "1     88\n",
              "Name: Pregnancies, dtype: int64"
            ]
          },
          "metadata": {
            "tags": []
          },
          "execution_count": 25
        }
      ]
    },
    {
      "cell_type": "markdown",
      "metadata": {
        "id": "msViCyaEE2lt"
      },
      "source": [
        "#### Insulin\n",
        "\n",
        "Serum insulin (mu U/ml)"
      ]
    },
    {
      "cell_type": "code",
      "metadata": {
        "colab": {
          "base_uri": "https://localhost:8080/",
          "height": 282
        },
        "id": "K4aRKE0VFgTW",
        "outputId": "f8298f06-0584-4a35-a949-efb9e73f54d3"
      },
      "source": [
        "df['Insulin'].hist()"
      ],
      "execution_count": null,
      "outputs": [
        {
          "output_type": "execute_result",
          "data": {
            "text/plain": [
              "<matplotlib.axes._subplots.AxesSubplot at 0x7fb04ef2c550>"
            ]
          },
          "metadata": {
            "tags": []
          },
          "execution_count": 26
        },
        {
          "output_type": "display_data",
          "data": {
            "image/png": "[encoded data removed]",
            "text/plain": [
              "<Figure size 432x288 with 1 Axes>"
            ]
          },
          "metadata": {
            "tags": [],
            "needs_background": "light"
          }
        }
      ]
    },
    {
      "cell_type": "markdown",
      "metadata": {
        "id": "WKOQTrpERsni"
      },
      "source": [
        "Level insulin pada manusia berkisar\n",
        "\n",
        "* < 25 saat puasa\n",
        "\n",
        "* 30 - 230 30 menit setelah konsumsi glukosa\n",
        "\n",
        "* 18 - 276 1 jam setelah konsumsi glukosa\n",
        "\n",
        "* 16 - 166 2 jam setelah konsumsi glukosa\n",
        "\n",
        "terdapat insulin yang bernilai 0 yang seharusnya tidak pada manusia normal"
      ]
    },
    {
      "cell_type": "code",
      "metadata": {
        "colab": {
          "base_uri": "https://localhost:8080/"
        },
        "id": "VEE-HpBBU4Ky",
        "outputId": "7cc15ee1-fc23-41cd-b5b1-12784d34d03b"
      },
      "source": [
        "df[df['Insulin'] == 0].groupby('Outcome')['Pregnancies'].count()"
      ],
      "execution_count": null,
      "outputs": [
        {
          "output_type": "execute_result",
          "data": {
            "text/plain": [
              "Outcome\n",
              "0    236\n",
              "1    138\n",
              "Name: Pregnancies, dtype: int64"
            ]
          },
          "metadata": {
            "tags": []
          },
          "execution_count": 27
        }
      ]
    },
    {
      "cell_type": "markdown",
      "metadata": {
        "id": "6FpFu_ClFfgb"
      },
      "source": [
        "#### BMI\n",
        "\n",
        "Indeks massa "
      ]
    },
    {
      "cell_type": "code",
      "metadata": {
        "colab": {
          "base_uri": "https://localhost:8080/",
          "height": 282
        },
        "id": "Vqm4H_yfF7R_",
        "outputId": "8862f4fa-eb71-42ef-d52d-888098c17015"
      },
      "source": [
        "df['BMI'].hist()"
      ],
      "execution_count": null,
      "outputs": [
        {
          "output_type": "execute_result",
          "data": {
            "text/plain": [
              "<matplotlib.axes._subplots.AxesSubplot at 0x7fb04eeb03d0>"
            ]
          },
          "metadata": {
            "tags": []
          },
          "execution_count": 28
        },
        {
          "output_type": "display_data",
          "data": {
            "image/png": "[encoded data removed]",
            "text/plain": [
              "<Figure size 432x288 with 1 Axes>"
            ]
          },
          "metadata": {
            "tags": [],
            "needs_background": "light"
          }
        }
      ]
    },
    {
      "cell_type": "markdown",
      "metadata": {
        "id": "rhS0Aoi6VfN8"
      },
      "source": [
        "indeks massa yang bernilai 0 yang tidak seharusnya ada pada manusia"
      ]
    },
    {
      "cell_type": "code",
      "metadata": {
        "colab": {
          "base_uri": "https://localhost:8080/"
        },
        "id": "efLZmn_8VoKE",
        "outputId": "f204935e-39e4-4389-d84d-6bd91834eaf3"
      },
      "source": [
        "df[df['BMI'] == 0].groupby('Outcome')['Pregnancies'].count()"
      ],
      "execution_count": null,
      "outputs": [
        {
          "output_type": "execute_result",
          "data": {
            "text/plain": [
              "Outcome\n",
              "0    9\n",
              "1    2\n",
              "Name: Pregnancies, dtype: int64"
            ]
          },
          "metadata": {
            "tags": []
          },
          "execution_count": 29
        }
      ]
    },
    {
      "cell_type": "markdown",
      "metadata": {
        "id": "nK-0rHSYGDfw"
      },
      "source": [
        "#### DiabetesPedigreeFunction\n",
        "\n",
        "Silsilah diabetes"
      ]
    },
    {
      "cell_type": "code",
      "metadata": {
        "colab": {
          "base_uri": "https://localhost:8080/",
          "height": 282
        },
        "id": "92C1J5fLGDKg",
        "outputId": "f954532a-989f-419c-b863-d33952bf3bb2"
      },
      "source": [
        "df['DiabetesPedigreeFunction'].hist()"
      ],
      "execution_count": null,
      "outputs": [
        {
          "output_type": "execute_result",
          "data": {
            "text/plain": [
              "<matplotlib.axes._subplots.AxesSubplot at 0x7fb04ee44bd0>"
            ]
          },
          "metadata": {
            "tags": []
          },
          "execution_count": 30
        },
        {
          "output_type": "display_data",
          "data": {
            "image/png": "[encoded data removed]",
            "text/plain": [
              "<Figure size 432x288 with 1 Axes>"
            ]
          },
          "metadata": {
            "tags": [],
            "needs_background": "light"
          }
        }
      ]
    },
    {
      "cell_type": "markdown",
      "metadata": {
        "id": "uOxpM-nuVx6M"
      },
      "source": [
        "tidak terdapat nilai abnormal pada silsilah diabetes"
      ]
    },
    {
      "cell_type": "markdown",
      "metadata": {
        "id": "RHAcV3U7GSkF"
      },
      "source": [
        "#### Age\n",
        "\n",
        "Umur"
      ]
    },
    {
      "cell_type": "code",
      "metadata": {
        "colab": {
          "base_uri": "https://localhost:8080/",
          "height": 282
        },
        "id": "9gy1JfiiGVqm",
        "outputId": "ead285e8-f22e-46f5-8222-e60a55a6ad08"
      },
      "source": [
        "df['Age'].hist()"
      ],
      "execution_count": null,
      "outputs": [
        {
          "output_type": "execute_result",
          "data": {
            "text/plain": [
              "<matplotlib.axes._subplots.AxesSubplot at 0x7fb04ee104d0>"
            ]
          },
          "metadata": {
            "tags": []
          },
          "execution_count": 31
        },
        {
          "output_type": "display_data",
          "data": {
            "image/png": "[encoded data removed]",
            "text/plain": [
              "<Figure size 432x288 with 1 Axes>"
            ]
          },
          "metadata": {
            "tags": [],
            "needs_background": "light"
          }
        }
      ]
    },
    {
      "cell_type": "markdown",
      "metadata": {
        "id": "bLc3YkflWUod"
      },
      "source": [
        "Tidak ada keabnormalan pada umur"
      ]
    },
    {
      "cell_type": "markdown",
      "metadata": {
        "id": "q4hplgysWYnD"
      },
      "source": [
        "#### Handling Unexpected Abnormal Value"
      ]
    },
    {
      "cell_type": "code",
      "metadata": {
        "colab": {
          "base_uri": "https://localhost:8080/",
          "height": 204
        },
        "id": "shA8XdOjWs8s",
        "outputId": "f13466ca-caee-4c62-e962-d50fd864c1c4"
      },
      "source": [
        "# tabel nilai 0 yang menjadi ouliers pada dataset\n",
        "table_outliers = pd.DataFrame({'Columns': ['Glucose',\n",
        "                                           'BloodPressure',\n",
        "                                           'SkinThickness',\n",
        "                                           'Insulin', \n",
        "                                           'BMI'],\n",
        "                               'Count of zero value': [df[df['Glucose']==0].shape[0],\n",
        "                                                       df[df['BloodPressure']==0].shape[0],\n",
        "                                                       df[df['SkinThickness']==0].shape[0],\n",
        "                                                       df[df['Insulin']==0].shape[0],\n",
        "                                                       df[df['BMI']==0].shape[0]]})\n",
        "\n",
        "table_outliers"
      ],
      "execution_count": null,
      "outputs": [
        {
          "output_type": "execute_result",
          "data": {
            "text/html": [
              "<div>\n",
              "<style scoped>\n",
              "    .dataframe tbody tr th:only-of-type {\n",
              "        vertical-align: middle;\n",
              "    }\n",
              "\n",
              "    .dataframe tbody tr th {\n",
              "        vertical-align: top;\n",
              "    }\n",
              "\n",
              "    .dataframe thead th {\n",
              "        text-align: right;\n",
              "    }\n",
              "</style>\n",
              "<table border=\"1\" class=\"dataframe\">\n",
              "  <thead>\n",
              "    <tr style=\"text-align: right;\">\n",
              "      <th></th>\n",
              "      <th>Columns</th>\n",
              "      <th>Count of zero value</th>\n",
              "    </tr>\n",
              "  </thead>\n",
              "  <tbody>\n",
              "    <tr>\n",
              "      <th>0</th>\n",
              "      <td>Glucose</td>\n",
              "      <td>5</td>\n",
              "    </tr>\n",
              "    <tr>\n",
              "      <th>1</th>\n",
              "      <td>BloodPressure</td>\n",
              "      <td>35</td>\n",
              "    </tr>\n",
              "    <tr>\n",
              "      <th>2</th>\n",
              "      <td>SkinThickness</td>\n",
              "      <td>227</td>\n",
              "    </tr>\n",
              "    <tr>\n",
              "      <th>3</th>\n",
              "      <td>Insulin</td>\n",
              "      <td>374</td>\n",
              "    </tr>\n",
              "    <tr>\n",
              "      <th>4</th>\n",
              "      <td>BMI</td>\n",
              "      <td>11</td>\n",
              "    </tr>\n",
              "  </tbody>\n",
              "</table>\n",
              "</div>"
            ],
            "text/plain": [
              "         Columns  Count of zero value\n",
              "0        Glucose                    5\n",
              "1  BloodPressure                   35\n",
              "2  SkinThickness                  227\n",
              "3        Insulin                  374\n",
              "4            BMI                   11"
            ]
          },
          "metadata": {
            "tags": []
          },
          "execution_count": 32
        }
      ]
    },
    {
      "cell_type": "markdown",
      "metadata": {
        "id": "TpBB2WQHa-jT"
      },
      "source": [
        "model pca sangat sensitif dengan outliers sehingga memerlukan penanganan khusus seperti menghapus semua outliers atau menggantinya dengan nilai lainnya.\n",
        "\n",
        "sebagai perbandingan data akan dibagi menjadi tiga \n",
        "\n",
        "* data dengan abnormal value\n",
        "\n",
        "* data dengan mengganti nilai abnormal dengan mean\n",
        "\n",
        "* data dengan mengganti nilai abnormal dengan median\n",
        "\n",
        "* data tanpa abnormal value"
      ]
    },
    {
      "cell_type": "markdown",
      "metadata": {
        "id": "xvV0oWcmoxxA"
      },
      "source": [
        "##### Data abnormal"
      ]
    },
    {
      "cell_type": "code",
      "metadata": {
        "id": "rPEBorqMaFlL"
      },
      "source": [
        "# data dengan outliers\n",
        "df_abnormal = df.copy()"
      ],
      "execution_count": null,
      "outputs": []
    },
    {
      "cell_type": "code",
      "metadata": {
        "colab": {
          "base_uri": "https://localhost:8080/",
          "height": 204
        },
        "id": "asNa-mYbjv3N",
        "outputId": "a3547d2a-60fc-4c0c-fbb7-7134d6577ef8"
      },
      "source": [
        "table_df_abnormal= pd.DataFrame({'Columns': ['Glucose',\n",
        "                                           'BloodPressure',\n",
        "                                           'SkinThickness',\n",
        "                                           'Insulin', \n",
        "                                           'BMI'],\n",
        "                                  'Count of zero value': [df_abnormal[df_abnormal['Glucose']==0].shape[0],\n",
        "                                                          df_abnormal[df_abnormal['BloodPressure']==0].shape[0],\n",
        "                                                          df_abnormal[df_abnormal['SkinThickness']==0].shape[0],\n",
        "                                                          df_abnormal[df_abnormal['Insulin']==0].shape[0],\n",
        "                                                          df_abnormal[df_abnormal['BMI']==0].shape[0]]})\n",
        "\n",
        "table_df_abnormal"
      ],
      "execution_count": null,
      "outputs": [
        {
          "output_type": "execute_result",
          "data": {
            "text/html": [
              "<div>\n",
              "<style scoped>\n",
              "    .dataframe tbody tr th:only-of-type {\n",
              "        vertical-align: middle;\n",
              "    }\n",
              "\n",
              "    .dataframe tbody tr th {\n",
              "        vertical-align: top;\n",
              "    }\n",
              "\n",
              "    .dataframe thead th {\n",
              "        text-align: right;\n",
              "    }\n",
              "</style>\n",
              "<table border=\"1\" class=\"dataframe\">\n",
              "  <thead>\n",
              "    <tr style=\"text-align: right;\">\n",
              "      <th></th>\n",
              "      <th>Columns</th>\n",
              "      <th>Count of zero value</th>\n",
              "    </tr>\n",
              "  </thead>\n",
              "  <tbody>\n",
              "    <tr>\n",
              "      <th>0</th>\n",
              "      <td>Glucose</td>\n",
              "      <td>5</td>\n",
              "    </tr>\n",
              "    <tr>\n",
              "      <th>1</th>\n",
              "      <td>BloodPressure</td>\n",
              "      <td>35</td>\n",
              "    </tr>\n",
              "    <tr>\n",
              "      <th>2</th>\n",
              "      <td>SkinThickness</td>\n",
              "      <td>227</td>\n",
              "    </tr>\n",
              "    <tr>\n",
              "      <th>3</th>\n",
              "      <td>Insulin</td>\n",
              "      <td>374</td>\n",
              "    </tr>\n",
              "    <tr>\n",
              "      <th>4</th>\n",
              "      <td>BMI</td>\n",
              "      <td>11</td>\n",
              "    </tr>\n",
              "  </tbody>\n",
              "</table>\n",
              "</div>"
            ],
            "text/plain": [
              "         Columns  Count of zero value\n",
              "0        Glucose                    5\n",
              "1  BloodPressure                   35\n",
              "2  SkinThickness                  227\n",
              "3        Insulin                  374\n",
              "4            BMI                   11"
            ]
          },
          "metadata": {
            "tags": []
          },
          "execution_count": 34
        }
      ]
    },
    {
      "cell_type": "markdown",
      "metadata": {
        "id": "Dh95rrtho327"
      },
      "source": [
        "##### Data dengan median"
      ]
    },
    {
      "cell_type": "code",
      "metadata": {
        "id": "3iEilmlViB8s"
      },
      "source": [
        "# data dengan mengganti nilai outliers dengan median\n",
        "df_median = df.copy()"
      ],
      "execution_count": null,
      "outputs": []
    },
    {
      "cell_type": "code",
      "metadata": {
        "colab": {
          "base_uri": "https://localhost:8080/",
          "height": 204
        },
        "id": "dlGX9ojlmFLD",
        "outputId": "94465e8d-ee96-47bc-8e59-04cd38737ce5"
      },
      "source": [
        "table_df_median = pd.DataFrame({'Columns': ['Glucose',\n",
        "                                           'BloodPressure',\n",
        "                                           'SkinThickness',\n",
        "                                           'Insulin', \n",
        "                                           'BMI'],\n",
        "                                'Count of zero value': [df_median[df_median['Glucose']==0].shape[0],\n",
        "                                                        df_median[df_median['BloodPressure']==0].shape[0],\n",
        "                                                        df_median[df_median['SkinThickness']==0].shape[0],\n",
        "                                                        df_median[df_median['Insulin']==0].shape[0],\n",
        "                                                        df_median[df_median['BMI']==0].shape[0]]})\n",
        "\n",
        "table_df_median"
      ],
      "execution_count": null,
      "outputs": [
        {
          "output_type": "execute_result",
          "data": {
            "text/html": [
              "<div>\n",
              "<style scoped>\n",
              "    .dataframe tbody tr th:only-of-type {\n",
              "        vertical-align: middle;\n",
              "    }\n",
              "\n",
              "    .dataframe tbody tr th {\n",
              "        vertical-align: top;\n",
              "    }\n",
              "\n",
              "    .dataframe thead th {\n",
              "        text-align: right;\n",
              "    }\n",
              "</style>\n",
              "<table border=\"1\" class=\"dataframe\">\n",
              "  <thead>\n",
              "    <tr style=\"text-align: right;\">\n",
              "      <th></th>\n",
              "      <th>Columns</th>\n",
              "      <th>Count of zero value</th>\n",
              "    </tr>\n",
              "  </thead>\n",
              "  <tbody>\n",
              "    <tr>\n",
              "      <th>0</th>\n",
              "      <td>Glucose</td>\n",
              "      <td>5</td>\n",
              "    </tr>\n",
              "    <tr>\n",
              "      <th>1</th>\n",
              "      <td>BloodPressure</td>\n",
              "      <td>35</td>\n",
              "    </tr>\n",
              "    <tr>\n",
              "      <th>2</th>\n",
              "      <td>SkinThickness</td>\n",
              "      <td>227</td>\n",
              "    </tr>\n",
              "    <tr>\n",
              "      <th>3</th>\n",
              "      <td>Insulin</td>\n",
              "      <td>374</td>\n",
              "    </tr>\n",
              "    <tr>\n",
              "      <th>4</th>\n",
              "      <td>BMI</td>\n",
              "      <td>11</td>\n",
              "    </tr>\n",
              "  </tbody>\n",
              "</table>\n",
              "</div>"
            ],
            "text/plain": [
              "         Columns  Count of zero value\n",
              "0        Glucose                    5\n",
              "1  BloodPressure                   35\n",
              "2  SkinThickness                  227\n",
              "3        Insulin                  374\n",
              "4            BMI                   11"
            ]
          },
          "metadata": {
            "tags": []
          },
          "execution_count": 36
        }
      ]
    },
    {
      "cell_type": "code",
      "metadata": {
        "id": "hrKabg4umbEb"
      },
      "source": [
        "def mean_median_convert(data, means = False, medians = False):\n",
        "  if means:\n",
        "    data['Glucose'] = data['Glucose'].replace(0, mean(data['Glucose']))\n",
        "    data['BloodPressure'] = data['BloodPressure'].replace(0, mean(data['BloodPressure']))\n",
        "    data['SkinThickness'] = data['SkinThickness'].replace(0, mean(data['SkinThickness']))\n",
        "    data['Insulin'] = data['Insulin'].replace(0, mean(data['Insulin']))\n",
        "    data['BMI'] = data['BMI'].replace(0, mean(data['BMI']))\n",
        "  elif medians:\n",
        "    data['Glucose'] = data['Glucose'].replace(0, median(data['Glucose']))\n",
        "    data['BloodPressure'] = data['BloodPressure'].replace(0, median(data['BloodPressure']))\n",
        "    data['SkinThickness'] = data['SkinThickness'].replace(0, median(data['SkinThickness']))\n",
        "    data['Insulin'] = data['Insulin'].replace(0, median(data['Insulin']))\n",
        "    data['BMI'] = data['BMI'].replace(0, median(data['BMI']))\n",
        "  \n",
        "  return data"
      ],
      "execution_count": null,
      "outputs": []
    },
    {
      "cell_type": "code",
      "metadata": {
        "id": "j0HbZxSnniz4"
      },
      "source": [
        "df_median = mean_median_convert(df_median, medians = True)"
      ],
      "execution_count": null,
      "outputs": []
    },
    {
      "cell_type": "code",
      "metadata": {
        "colab": {
          "base_uri": "https://localhost:8080/",
          "height": 204
        },
        "id": "-kD-bNRmQzHp",
        "outputId": "53e7da5d-f6bd-4b7a-ab01-f7462b89b4b5"
      },
      "source": [
        "df_median.head()"
      ],
      "execution_count": null,
      "outputs": [
        {
          "output_type": "execute_result",
          "data": {
            "text/html": [
              "<div>\n",
              "<style scoped>\n",
              "    .dataframe tbody tr th:only-of-type {\n",
              "        vertical-align: middle;\n",
              "    }\n",
              "\n",
              "    .dataframe tbody tr th {\n",
              "        vertical-align: top;\n",
              "    }\n",
              "\n",
              "    .dataframe thead th {\n",
              "        text-align: right;\n",
              "    }\n",
              "</style>\n",
              "<table border=\"1\" class=\"dataframe\">\n",
              "  <thead>\n",
              "    <tr style=\"text-align: right;\">\n",
              "      <th></th>\n",
              "      <th>Pregnancies</th>\n",
              "      <th>Glucose</th>\n",
              "      <th>BloodPressure</th>\n",
              "      <th>SkinThickness</th>\n",
              "      <th>Insulin</th>\n",
              "      <th>BMI</th>\n",
              "      <th>DiabetesPedigreeFunction</th>\n",
              "      <th>Age</th>\n",
              "      <th>Outcome</th>\n",
              "    </tr>\n",
              "  </thead>\n",
              "  <tbody>\n",
              "    <tr>\n",
              "      <th>0</th>\n",
              "      <td>6</td>\n",
              "      <td>148</td>\n",
              "      <td>72</td>\n",
              "      <td>35</td>\n",
              "      <td>30.5</td>\n",
              "      <td>33.6</td>\n",
              "      <td>0.627</td>\n",
              "      <td>50</td>\n",
              "      <td>1</td>\n",
              "    </tr>\n",
              "    <tr>\n",
              "      <th>1</th>\n",
              "      <td>1</td>\n",
              "      <td>85</td>\n",
              "      <td>66</td>\n",
              "      <td>29</td>\n",
              "      <td>30.5</td>\n",
              "      <td>26.6</td>\n",
              "      <td>0.351</td>\n",
              "      <td>31</td>\n",
              "      <td>0</td>\n",
              "    </tr>\n",
              "    <tr>\n",
              "      <th>2</th>\n",
              "      <td>8</td>\n",
              "      <td>183</td>\n",
              "      <td>64</td>\n",
              "      <td>23</td>\n",
              "      <td>30.5</td>\n",
              "      <td>23.3</td>\n",
              "      <td>0.672</td>\n",
              "      <td>32</td>\n",
              "      <td>1</td>\n",
              "    </tr>\n",
              "    <tr>\n",
              "      <th>3</th>\n",
              "      <td>1</td>\n",
              "      <td>89</td>\n",
              "      <td>66</td>\n",
              "      <td>23</td>\n",
              "      <td>94.0</td>\n",
              "      <td>28.1</td>\n",
              "      <td>0.167</td>\n",
              "      <td>21</td>\n",
              "      <td>0</td>\n",
              "    </tr>\n",
              "    <tr>\n",
              "      <th>4</th>\n",
              "      <td>0</td>\n",
              "      <td>137</td>\n",
              "      <td>40</td>\n",
              "      <td>35</td>\n",
              "      <td>168.0</td>\n",
              "      <td>43.1</td>\n",
              "      <td>2.288</td>\n",
              "      <td>33</td>\n",
              "      <td>1</td>\n",
              "    </tr>\n",
              "  </tbody>\n",
              "</table>\n",
              "</div>"
            ],
            "text/plain": [
              "   Pregnancies  Glucose  BloodPressure  ...  DiabetesPedigreeFunction  Age  Outcome\n",
              "0            6      148             72  ...                     0.627   50        1\n",
              "1            1       85             66  ...                     0.351   31        0\n",
              "2            8      183             64  ...                     0.672   32        1\n",
              "3            1       89             66  ...                     0.167   21        0\n",
              "4            0      137             40  ...                     2.288   33        1\n",
              "\n",
              "[5 rows x 9 columns]"
            ]
          },
          "metadata": {
            "tags": []
          },
          "execution_count": 39
        }
      ]
    },
    {
      "cell_type": "code",
      "metadata": {
        "colab": {
          "base_uri": "https://localhost:8080/",
          "height": 204
        },
        "id": "_vAOsCC8no32",
        "outputId": "9c21cb01-a5a2-48b7-a7c0-5a716da89281"
      },
      "source": [
        "table_df_median = pd.DataFrame({'Columns': ['Glucose',\n",
        "                                           'BloodPressure',\n",
        "                                           'SkinThickness',\n",
        "                                           'Insulin', \n",
        "                                           'BMI'],\n",
        "                                'Count of zero value': [df_median[df_median['Glucose']==0].shape[0],\n",
        "                                                        df_median[df_median['BloodPressure']==0].shape[0],\n",
        "                                                        df_median[df_median['SkinThickness']==0].shape[0],\n",
        "                                                        df_median[df_median['Insulin']==0].shape[0],\n",
        "                                                        df_median[df_median['BMI']==0].shape[0]]})\n",
        "\n",
        "table_df_median"
      ],
      "execution_count": null,
      "outputs": [
        {
          "output_type": "execute_result",
          "data": {
            "text/html": [
              "<div>\n",
              "<style scoped>\n",
              "    .dataframe tbody tr th:only-of-type {\n",
              "        vertical-align: middle;\n",
              "    }\n",
              "\n",
              "    .dataframe tbody tr th {\n",
              "        vertical-align: top;\n",
              "    }\n",
              "\n",
              "    .dataframe thead th {\n",
              "        text-align: right;\n",
              "    }\n",
              "</style>\n",
              "<table border=\"1\" class=\"dataframe\">\n",
              "  <thead>\n",
              "    <tr style=\"text-align: right;\">\n",
              "      <th></th>\n",
              "      <th>Columns</th>\n",
              "      <th>Count of zero value</th>\n",
              "    </tr>\n",
              "  </thead>\n",
              "  <tbody>\n",
              "    <tr>\n",
              "      <th>0</th>\n",
              "      <td>Glucose</td>\n",
              "      <td>0</td>\n",
              "    </tr>\n",
              "    <tr>\n",
              "      <th>1</th>\n",
              "      <td>BloodPressure</td>\n",
              "      <td>0</td>\n",
              "    </tr>\n",
              "    <tr>\n",
              "      <th>2</th>\n",
              "      <td>SkinThickness</td>\n",
              "      <td>0</td>\n",
              "    </tr>\n",
              "    <tr>\n",
              "      <th>3</th>\n",
              "      <td>Insulin</td>\n",
              "      <td>0</td>\n",
              "    </tr>\n",
              "    <tr>\n",
              "      <th>4</th>\n",
              "      <td>BMI</td>\n",
              "      <td>0</td>\n",
              "    </tr>\n",
              "  </tbody>\n",
              "</table>\n",
              "</div>"
            ],
            "text/plain": [
              "         Columns  Count of zero value\n",
              "0        Glucose                    0\n",
              "1  BloodPressure                    0\n",
              "2  SkinThickness                    0\n",
              "3        Insulin                    0\n",
              "4            BMI                    0"
            ]
          },
          "metadata": {
            "tags": []
          },
          "execution_count": 40
        }
      ]
    },
    {
      "cell_type": "markdown",
      "metadata": {
        "id": "W0-5dcgjpFnu"
      },
      "source": [
        "##### Data dengan mean"
      ]
    },
    {
      "cell_type": "code",
      "metadata": {
        "id": "GGBdMVlpjESS"
      },
      "source": [
        "# data dengan mengganti outliers dengan mean\n",
        "df_mean = df.copy()"
      ],
      "execution_count": null,
      "outputs": []
    },
    {
      "cell_type": "code",
      "metadata": {
        "colab": {
          "base_uri": "https://localhost:8080/",
          "height": 204
        },
        "id": "nQQC0iW6kHP5",
        "outputId": "2636131f-218e-46d2-b251-06240030edd1"
      },
      "source": [
        "table_df_mean = pd.DataFrame({'Columns': ['Glucose',\n",
        "                                           'BloodPressure',\n",
        "                                           'SkinThickness',\n",
        "                                           'Insulin', \n",
        "                                           'BMI'],\n",
        "                                'Count of zero value': [df_mean[df_mean['Glucose']==0].shape[0],\n",
        "                                                        df_mean[df_mean['BloodPressure']==0].shape[0],\n",
        "                                                        df_mean[df_mean['SkinThickness']==0].shape[0],\n",
        "                                                        df_mean[df_mean['Insulin']==0].shape[0],\n",
        "                                                        df_mean[df_mean['BMI']==0].shape[0]]})\n",
        "\n",
        "table_df_mean"
      ],
      "execution_count": null,
      "outputs": [
        {
          "output_type": "execute_result",
          "data": {
            "text/html": [
              "<div>\n",
              "<style scoped>\n",
              "    .dataframe tbody tr th:only-of-type {\n",
              "        vertical-align: middle;\n",
              "    }\n",
              "\n",
              "    .dataframe tbody tr th {\n",
              "        vertical-align: top;\n",
              "    }\n",
              "\n",
              "    .dataframe thead th {\n",
              "        text-align: right;\n",
              "    }\n",
              "</style>\n",
              "<table border=\"1\" class=\"dataframe\">\n",
              "  <thead>\n",
              "    <tr style=\"text-align: right;\">\n",
              "      <th></th>\n",
              "      <th>Columns</th>\n",
              "      <th>Count of zero value</th>\n",
              "    </tr>\n",
              "  </thead>\n",
              "  <tbody>\n",
              "    <tr>\n",
              "      <th>0</th>\n",
              "      <td>Glucose</td>\n",
              "      <td>5</td>\n",
              "    </tr>\n",
              "    <tr>\n",
              "      <th>1</th>\n",
              "      <td>BloodPressure</td>\n",
              "      <td>35</td>\n",
              "    </tr>\n",
              "    <tr>\n",
              "      <th>2</th>\n",
              "      <td>SkinThickness</td>\n",
              "      <td>227</td>\n",
              "    </tr>\n",
              "    <tr>\n",
              "      <th>3</th>\n",
              "      <td>Insulin</td>\n",
              "      <td>374</td>\n",
              "    </tr>\n",
              "    <tr>\n",
              "      <th>4</th>\n",
              "      <td>BMI</td>\n",
              "      <td>11</td>\n",
              "    </tr>\n",
              "  </tbody>\n",
              "</table>\n",
              "</div>"
            ],
            "text/plain": [
              "         Columns  Count of zero value\n",
              "0        Glucose                    5\n",
              "1  BloodPressure                   35\n",
              "2  SkinThickness                  227\n",
              "3        Insulin                  374\n",
              "4            BMI                   11"
            ]
          },
          "metadata": {
            "tags": []
          },
          "execution_count": 42
        }
      ]
    },
    {
      "cell_type": "code",
      "metadata": {
        "id": "YiYyl2p2pxrZ"
      },
      "source": [
        "df_mean = mean_median_convert(df_mean, means = True)"
      ],
      "execution_count": null,
      "outputs": []
    },
    {
      "cell_type": "code",
      "metadata": {
        "colab": {
          "base_uri": "https://localhost:8080/",
          "height": 204
        },
        "id": "x0H-L-iwp5NB",
        "outputId": "1b5625fd-3b76-4f01-b56e-8e9abe1cdd63"
      },
      "source": [
        "table_df_mean = pd.DataFrame({'Columns': ['Glucose',\n",
        "                                           'BloodPressure',\n",
        "                                           'SkinThickness',\n",
        "                                           'Insulin', \n",
        "                                           'BMI'],\n",
        "                                'Count of zero value': [df_mean[df_mean['Glucose']==0].shape[0],\n",
        "                                                        df_mean[df_mean['BloodPressure']==0].shape[0],\n",
        "                                                        df_mean[df_mean['SkinThickness']==0].shape[0],\n",
        "                                                        df_mean[df_mean['Insulin']==0].shape[0],\n",
        "                                                        df_mean[df_mean['BMI']==0].shape[0]]})\n",
        "\n",
        "table_df_mean"
      ],
      "execution_count": null,
      "outputs": [
        {
          "output_type": "execute_result",
          "data": {
            "text/html": [
              "<div>\n",
              "<style scoped>\n",
              "    .dataframe tbody tr th:only-of-type {\n",
              "        vertical-align: middle;\n",
              "    }\n",
              "\n",
              "    .dataframe tbody tr th {\n",
              "        vertical-align: top;\n",
              "    }\n",
              "\n",
              "    .dataframe thead th {\n",
              "        text-align: right;\n",
              "    }\n",
              "</style>\n",
              "<table border=\"1\" class=\"dataframe\">\n",
              "  <thead>\n",
              "    <tr style=\"text-align: right;\">\n",
              "      <th></th>\n",
              "      <th>Columns</th>\n",
              "      <th>Count of zero value</th>\n",
              "    </tr>\n",
              "  </thead>\n",
              "  <tbody>\n",
              "    <tr>\n",
              "      <th>0</th>\n",
              "      <td>Glucose</td>\n",
              "      <td>0</td>\n",
              "    </tr>\n",
              "    <tr>\n",
              "      <th>1</th>\n",
              "      <td>BloodPressure</td>\n",
              "      <td>0</td>\n",
              "    </tr>\n",
              "    <tr>\n",
              "      <th>2</th>\n",
              "      <td>SkinThickness</td>\n",
              "      <td>0</td>\n",
              "    </tr>\n",
              "    <tr>\n",
              "      <th>3</th>\n",
              "      <td>Insulin</td>\n",
              "      <td>0</td>\n",
              "    </tr>\n",
              "    <tr>\n",
              "      <th>4</th>\n",
              "      <td>BMI</td>\n",
              "      <td>0</td>\n",
              "    </tr>\n",
              "  </tbody>\n",
              "</table>\n",
              "</div>"
            ],
            "text/plain": [
              "         Columns  Count of zero value\n",
              "0        Glucose                    0\n",
              "1  BloodPressure                    0\n",
              "2  SkinThickness                    0\n",
              "3        Insulin                    0\n",
              "4            BMI                    0"
            ]
          },
          "metadata": {
            "tags": []
          },
          "execution_count": 44
        }
      ]
    },
    {
      "cell_type": "markdown",
      "metadata": {
        "id": "ve0CvOcCqtcI"
      },
      "source": [
        "##### Data normal"
      ]
    },
    {
      "cell_type": "code",
      "metadata": {
        "id": "mkyOD5MZiGpa"
      },
      "source": [
        "# data normal\n",
        "df_normal= df.copy()"
      ],
      "execution_count": null,
      "outputs": []
    },
    {
      "cell_type": "code",
      "metadata": {
        "colab": {
          "base_uri": "https://localhost:8080/",
          "height": 204
        },
        "id": "zNl8dHAXq4ay",
        "outputId": "6c57cd42-a37c-4b48-9595-5bcf8b9ac877"
      },
      "source": [
        "table_df_normal = pd.DataFrame({'Columns': ['Glucose',\n",
        "                                                'BloodPressure',\n",
        "                                                'SkinThickness',\n",
        "                                                'Insulin', \n",
        "                                                'BMI'],\n",
        "                                    'Count of zero value': [df_normal[df_normal['Glucose']==0].shape[0],\n",
        "                                                            df_normal[df_normal['BloodPressure']==0].shape[0],\n",
        "                                                            df_normal[df_normal['SkinThickness']==0].shape[0],\n",
        "                                                            df_normal[df_normal['Insulin']==0].shape[0],\n",
        "                                                            df_normal[df_normal['BMI']==0].shape[0]]})\n",
        "\n",
        "table_df_normal"
      ],
      "execution_count": null,
      "outputs": [
        {
          "output_type": "execute_result",
          "data": {
            "text/html": [
              "<div>\n",
              "<style scoped>\n",
              "    .dataframe tbody tr th:only-of-type {\n",
              "        vertical-align: middle;\n",
              "    }\n",
              "\n",
              "    .dataframe tbody tr th {\n",
              "        vertical-align: top;\n",
              "    }\n",
              "\n",
              "    .dataframe thead th {\n",
              "        text-align: right;\n",
              "    }\n",
              "</style>\n",
              "<table border=\"1\" class=\"dataframe\">\n",
              "  <thead>\n",
              "    <tr style=\"text-align: right;\">\n",
              "      <th></th>\n",
              "      <th>Columns</th>\n",
              "      <th>Count of zero value</th>\n",
              "    </tr>\n",
              "  </thead>\n",
              "  <tbody>\n",
              "    <tr>\n",
              "      <th>0</th>\n",
              "      <td>Glucose</td>\n",
              "      <td>5</td>\n",
              "    </tr>\n",
              "    <tr>\n",
              "      <th>1</th>\n",
              "      <td>BloodPressure</td>\n",
              "      <td>35</td>\n",
              "    </tr>\n",
              "    <tr>\n",
              "      <th>2</th>\n",
              "      <td>SkinThickness</td>\n",
              "      <td>227</td>\n",
              "    </tr>\n",
              "    <tr>\n",
              "      <th>3</th>\n",
              "      <td>Insulin</td>\n",
              "      <td>374</td>\n",
              "    </tr>\n",
              "    <tr>\n",
              "      <th>4</th>\n",
              "      <td>BMI</td>\n",
              "      <td>11</td>\n",
              "    </tr>\n",
              "  </tbody>\n",
              "</table>\n",
              "</div>"
            ],
            "text/plain": [
              "         Columns  Count of zero value\n",
              "0        Glucose                    5\n",
              "1  BloodPressure                   35\n",
              "2  SkinThickness                  227\n",
              "3        Insulin                  374\n",
              "4            BMI                   11"
            ]
          },
          "metadata": {
            "tags": []
          },
          "execution_count": 46
        }
      ]
    },
    {
      "cell_type": "code",
      "metadata": {
        "id": "Z-HfN5WXrLIq"
      },
      "source": [
        "df_normal = df_normal[(df_normal['Glucose'] != 0) & (df_normal['BloodPressure'] != 0) & (df_normal['SkinThickness'] != 0) & (df_normal['Insulin'] != 0) & (df_normal['BMI'] != 0)] "
      ],
      "execution_count": null,
      "outputs": []
    },
    {
      "cell_type": "code",
      "metadata": {
        "colab": {
          "base_uri": "https://localhost:8080/",
          "height": 204
        },
        "id": "zwLSjVtSsGWa",
        "outputId": "2c63405b-530c-43b8-9ed2-0f30a98336bc"
      },
      "source": [
        "table_df_normal = pd.DataFrame({'Columns': ['Glucose',\n",
        "                                                'BloodPressure',\n",
        "                                                'SkinThickness',\n",
        "                                                'Insulin', \n",
        "                                                'BMI'],\n",
        "                                     'Count of zero value': [df_normal[df_normal['Glucose']==0].shape[0],\n",
        "                                                             df_normal[df_normal['BloodPressure']==0].shape[0],\n",
        "                                                             df_normal[df_normal['SkinThickness']==0].shape[0],\n",
        "                                                             df_normal[df_normal['Insulin']==0].shape[0],\n",
        "                                                             df_normal[df_normal['BMI']==0].shape[0]]})\n",
        "\n",
        "table_df_normal"
      ],
      "execution_count": null,
      "outputs": [
        {
          "output_type": "execute_result",
          "data": {
            "text/html": [
              "<div>\n",
              "<style scoped>\n",
              "    .dataframe tbody tr th:only-of-type {\n",
              "        vertical-align: middle;\n",
              "    }\n",
              "\n",
              "    .dataframe tbody tr th {\n",
              "        vertical-align: top;\n",
              "    }\n",
              "\n",
              "    .dataframe thead th {\n",
              "        text-align: right;\n",
              "    }\n",
              "</style>\n",
              "<table border=\"1\" class=\"dataframe\">\n",
              "  <thead>\n",
              "    <tr style=\"text-align: right;\">\n",
              "      <th></th>\n",
              "      <th>Columns</th>\n",
              "      <th>Count of zero value</th>\n",
              "    </tr>\n",
              "  </thead>\n",
              "  <tbody>\n",
              "    <tr>\n",
              "      <th>0</th>\n",
              "      <td>Glucose</td>\n",
              "      <td>0</td>\n",
              "    </tr>\n",
              "    <tr>\n",
              "      <th>1</th>\n",
              "      <td>BloodPressure</td>\n",
              "      <td>0</td>\n",
              "    </tr>\n",
              "    <tr>\n",
              "      <th>2</th>\n",
              "      <td>SkinThickness</td>\n",
              "      <td>0</td>\n",
              "    </tr>\n",
              "    <tr>\n",
              "      <th>3</th>\n",
              "      <td>Insulin</td>\n",
              "      <td>0</td>\n",
              "    </tr>\n",
              "    <tr>\n",
              "      <th>4</th>\n",
              "      <td>BMI</td>\n",
              "      <td>0</td>\n",
              "    </tr>\n",
              "  </tbody>\n",
              "</table>\n",
              "</div>"
            ],
            "text/plain": [
              "         Columns  Count of zero value\n",
              "0        Glucose                    0\n",
              "1  BloodPressure                    0\n",
              "2  SkinThickness                    0\n",
              "3        Insulin                    0\n",
              "4            BMI                    0"
            ]
          },
          "metadata": {
            "tags": []
          },
          "execution_count": 48
        }
      ]
    },
    {
      "cell_type": "markdown",
      "metadata": {
        "id": "RZ0aWyf6Ayz-"
      },
      "source": [
        "##### Data normal dan no outliers"
      ]
    },
    {
      "cell_type": "code",
      "metadata": {
        "colab": {
          "base_uri": "https://localhost:8080/"
        },
        "id": "-bCkw-NABZPM",
        "outputId": "e34913f8-ddad-46fa-fc1d-a841e3638827"
      },
      "source": [
        "df_no_outliers = df_normal.copy()\n",
        "df_no_outliers.shape"
      ],
      "execution_count": null,
      "outputs": [
        {
          "output_type": "execute_result",
          "data": {
            "text/plain": [
              "(392, 9)"
            ]
          },
          "metadata": {
            "tags": []
          },
          "execution_count": 49
        }
      ]
    },
    {
      "cell_type": "code",
      "metadata": {
        "id": "fUR-eWnRA3JG"
      },
      "source": [
        "def detect_outliers(data):\n",
        "  columns = ['Pregnancies', 'Glucose',\n",
        "             'BloodPressure', 'SkinThickness',\n",
        "             'Insulin', 'BMI',\n",
        "             'DiabetesPedigreeFunction', 'Age']\n",
        "  count = 0\n",
        "  th = 3\n",
        "  for i in range(0,8):\n",
        "    z = np.abs(stats.zscore(df_normal[columns[count]]))\n",
        "    df = data[(z < 3)]\n",
        "  return df"
      ],
      "execution_count": null,
      "outputs": []
    },
    {
      "cell_type": "code",
      "metadata": {
        "colab": {
          "base_uri": "https://localhost:8080/"
        },
        "id": "EzdGOFkkDw6U",
        "outputId": "f230f1a9-7b90-420d-8aa8-272ffdb988fd"
      },
      "source": [
        "df_no_outliers = detect_outliers(df_no_outliers)\n",
        "df_no_outliers.shape"
      ],
      "execution_count": null,
      "outputs": [
        {
          "output_type": "execute_result",
          "data": {
            "text/plain": [
              "(386, 9)"
            ]
          },
          "metadata": {
            "tags": []
          },
          "execution_count": 51
        }
      ]
    },
    {
      "cell_type": "markdown",
      "metadata": {
        "id": "XUhAAx69sO36"
      },
      "source": [
        "#### Applied PCA"
      ]
    },
    {
      "cell_type": "markdown",
      "metadata": {
        "id": "ki3Mnypq69Hu"
      },
      "source": [
        "Untuk binary classification (1 atau 0) digunakan model LogisticRegression dan Support Vector Machine (SVM)"
      ]
    },
    {
      "cell_type": "code",
      "metadata": {
        "id": "TOedfOyM1Ygq"
      },
      "source": [
        "# fungsi\n",
        "def dataset(data):\n",
        "  datax = data.drop(['Outcome'], axis = 1)\n",
        "  datay = data['Outcome']\n",
        "  return datax, datay\n",
        "\n",
        "def models():\n",
        "  model_normLR, model_stanLR, model_normSVC, model_stanSVC = dict(), dict(), dict(), dict()\n",
        "  for i in range(1,9):\n",
        "    # normalization dan logistic regression\n",
        "    steps_normLR = [('norm', MinMaxScaler()), ('pca', PCA(n_components=i)), ('LR', LogisticRegression())]\n",
        "    model_normLR[str(i)] = Pipeline(steps=steps_normLR)\n",
        "    # standardization dan logistic regression\n",
        "    steps_stanLR = [('stan', StandardScaler()), ('pca', PCA(n_components=i)), ('LR', LogisticRegression())]\n",
        "    model_stanLR[str(i)] = Pipeline(steps=steps_stanLR)\n",
        "    # normalization dan SVC\n",
        "    steps_normSVC = [('norm', MinMaxScaler()), ('pca', PCA(n_components=i)), ('SVC', SVC())]\n",
        "    model_normSVC[str(i)] = Pipeline(steps=steps_normSVC)\n",
        "    # standardization dan SVC\n",
        "    steps_stanSVC = [('stan', StandardScaler()), ('pca', PCA(n_components=i)), ('LR', SVC())]\n",
        "    model_stanSVC[str(i)] = Pipeline(steps=steps_stanSVC)\n",
        "  return model_normLR, model_stanLR, model_normSVC, model_stanSVC\n",
        "\n",
        "def evaluate_model(model, X, y):\n",
        "  cv = RepeatedStratifiedKFold(n_splits=10, n_repeats=5, random_state=1)\n",
        "  scores = cross_val_score(model, X, y, scoring='accuracy', cv=cv, n_jobs= -1, error_score='raise')\n",
        "  return scores\n",
        "\n",
        "def pengujian_reduksi_dimensi(data):\n",
        "  X, y = dataset(data)\n",
        "  model_normLR, model_stanLR, model_normSVC, model_stanSVC = models()\n",
        "  result1, result2, result3, result4 = list(), list(), list(), list()\n",
        "  name1, name2, name3, name4 = list(), list(), list(), list()\n",
        "  list_models = [model_normLR, model_stanLR, model_normSVC, model_stanSVC]\n",
        "  list_results = [result1, result2, result3, result4]\n",
        "  list_names = [name1, name2, name3, name4]\n",
        "  count = 0\n",
        "  for lists in list_models:\n",
        "    for name, model in lists.items():\n",
        "      scores = evaluate_model(model, X, y)\n",
        "      list_results[count].append(mean(scores))\n",
        "      list_names[count].append(name)\n",
        "    count +=1\n",
        "  table_result = pd.DataFrame({'Norm_LR': name1,\n",
        "                               'Result_NLR': result1,\n",
        "                               'Stan_LR': name2,\n",
        "                               'Result_SLR': result2,\n",
        "                               'Norm_SVC': name3,\n",
        "                               'Result_NSVC': result3,\n",
        "                               'Stan_SVC': name4,\n",
        "                               'Result_SSVC': result4})\n",
        "  return table_result"
      ],
      "execution_count": null,
      "outputs": []
    },
    {
      "cell_type": "markdown",
      "metadata": {
        "id": "aaRbClXX78yF"
      },
      "source": [
        "##### Data abnormal"
      ]
    },
    {
      "cell_type": "code",
      "metadata": {
        "colab": {
          "base_uri": "https://localhost:8080/",
          "height": 297
        },
        "id": "48sztH7cIYzW",
        "outputId": "c785bb81-ec1b-4131-aad3-b150398db565"
      },
      "source": [
        "tabel1 = pengujian_reduksi_dimensi(df_abnormal)\n",
        "tabel1"
      ],
      "execution_count": null,
      "outputs": [
        {
          "output_type": "execute_result",
          "data": {
            "text/html": [
              "<div>\n",
              "<style scoped>\n",
              "    .dataframe tbody tr th:only-of-type {\n",
              "        vertical-align: middle;\n",
              "    }\n",
              "\n",
              "    .dataframe tbody tr th {\n",
              "        vertical-align: top;\n",
              "    }\n",
              "\n",
              "    .dataframe thead th {\n",
              "        text-align: right;\n",
              "    }\n",
              "</style>\n",
              "<table border=\"1\" class=\"dataframe\">\n",
              "  <thead>\n",
              "    <tr style=\"text-align: right;\">\n",
              "      <th></th>\n",
              "      <th>Norm_LR</th>\n",
              "      <th>Result_NLR</th>\n",
              "      <th>Stan_LR</th>\n",
              "      <th>Result_SLR</th>\n",
              "      <th>Norm_SVC</th>\n",
              "      <th>Result_NSVC</th>\n",
              "      <th>Stan_SVC</th>\n",
              "      <th>Result_SSVC</th>\n",
              "    </tr>\n",
              "  </thead>\n",
              "  <tbody>\n",
              "    <tr>\n",
              "      <th>0</th>\n",
              "      <td>1</td>\n",
              "      <td>0.674228</td>\n",
              "      <td>1</td>\n",
              "      <td>0.716921</td>\n",
              "      <td>1</td>\n",
              "      <td>0.674211</td>\n",
              "      <td>1</td>\n",
              "      <td>0.709891</td>\n",
              "    </tr>\n",
              "    <tr>\n",
              "      <th>1</th>\n",
              "      <td>2</td>\n",
              "      <td>0.707809</td>\n",
              "      <td>2</td>\n",
              "      <td>0.716394</td>\n",
              "      <td>2</td>\n",
              "      <td>0.716664</td>\n",
              "      <td>2</td>\n",
              "      <td>0.721603</td>\n",
              "    </tr>\n",
              "    <tr>\n",
              "      <th>2</th>\n",
              "      <td>3</td>\n",
              "      <td>0.727105</td>\n",
              "      <td>3</td>\n",
              "      <td>0.727344</td>\n",
              "      <td>3</td>\n",
              "      <td>0.742707</td>\n",
              "      <td>3</td>\n",
              "      <td>0.732013</td>\n",
              "    </tr>\n",
              "    <tr>\n",
              "      <th>3</th>\n",
              "      <td>4</td>\n",
              "      <td>0.728154</td>\n",
              "      <td>4</td>\n",
              "      <td>0.723192</td>\n",
              "      <td>4</td>\n",
              "      <td>0.741374</td>\n",
              "      <td>4</td>\n",
              "      <td>0.731996</td>\n",
              "    </tr>\n",
              "    <tr>\n",
              "      <th>4</th>\n",
              "      <td>5</td>\n",
              "      <td>0.728411</td>\n",
              "      <td>5</td>\n",
              "      <td>0.743223</td>\n",
              "      <td>5</td>\n",
              "      <td>0.733824</td>\n",
              "      <td>5</td>\n",
              "      <td>0.742690</td>\n",
              "    </tr>\n",
              "    <tr>\n",
              "      <th>5</th>\n",
              "      <td>6</td>\n",
              "      <td>0.748725</td>\n",
              "      <td>6</td>\n",
              "      <td>0.765892</td>\n",
              "      <td>6</td>\n",
              "      <td>0.751798</td>\n",
              "      <td>6</td>\n",
              "      <td>0.762488</td>\n",
              "    </tr>\n",
              "    <tr>\n",
              "      <th>6</th>\n",
              "      <td>7</td>\n",
              "      <td>0.768503</td>\n",
              "      <td>7</td>\n",
              "      <td>0.768500</td>\n",
              "      <td>7</td>\n",
              "      <td>0.759094</td>\n",
              "      <td>7</td>\n",
              "      <td>0.766651</td>\n",
              "    </tr>\n",
              "    <tr>\n",
              "      <th>7</th>\n",
              "      <td>8</td>\n",
              "      <td>0.771374</td>\n",
              "      <td>8</td>\n",
              "      <td>0.774211</td>\n",
              "      <td>8</td>\n",
              "      <td>0.761699</td>\n",
              "      <td>8</td>\n",
              "      <td>0.760147</td>\n",
              "    </tr>\n",
              "  </tbody>\n",
              "</table>\n",
              "</div>"
            ],
            "text/plain": [
              "  Norm_LR  Result_NLR Stan_LR  ...  Result_NSVC Stan_SVC  Result_SSVC\n",
              "0       1    0.674228       1  ...     0.674211        1     0.709891\n",
              "1       2    0.707809       2  ...     0.716664        2     0.721603\n",
              "2       3    0.727105       3  ...     0.742707        3     0.732013\n",
              "3       4    0.728154       4  ...     0.741374        4     0.731996\n",
              "4       5    0.728411       5  ...     0.733824        5     0.742690\n",
              "5       6    0.748725       6  ...     0.751798        6     0.762488\n",
              "6       7    0.768503       7  ...     0.759094        7     0.766651\n",
              "7       8    0.771374       8  ...     0.761699        8     0.760147\n",
              "\n",
              "[8 rows x 8 columns]"
            ]
          },
          "metadata": {
            "tags": []
          },
          "execution_count": 53
        }
      ]
    },
    {
      "cell_type": "markdown",
      "metadata": {
        "id": "sRqGWUT_8YzB"
      },
      "source": [
        "##### Data dengan median"
      ]
    },
    {
      "cell_type": "code",
      "metadata": {
        "colab": {
          "base_uri": "https://localhost:8080/",
          "height": 297
        },
        "id": "QiScAvJsQjxL",
        "outputId": "b65a6c0a-dcf4-4d7f-a4a2-4162fe369f2f"
      },
      "source": [
        "tabel2 = pengujian_reduksi_dimensi(df_median)\n",
        "tabel2"
      ],
      "execution_count": null,
      "outputs": [
        {
          "output_type": "execute_result",
          "data": {
            "text/html": [
              "<div>\n",
              "<style scoped>\n",
              "    .dataframe tbody tr th:only-of-type {\n",
              "        vertical-align: middle;\n",
              "    }\n",
              "\n",
              "    .dataframe tbody tr th {\n",
              "        vertical-align: top;\n",
              "    }\n",
              "\n",
              "    .dataframe thead th {\n",
              "        text-align: right;\n",
              "    }\n",
              "</style>\n",
              "<table border=\"1\" class=\"dataframe\">\n",
              "  <thead>\n",
              "    <tr style=\"text-align: right;\">\n",
              "      <th></th>\n",
              "      <th>Norm_LR</th>\n",
              "      <th>Result_NLR</th>\n",
              "      <th>Stan_LR</th>\n",
              "      <th>Result_SLR</th>\n",
              "      <th>Norm_SVC</th>\n",
              "      <th>Result_NSVC</th>\n",
              "      <th>Stan_SVC</th>\n",
              "      <th>Result_SSVC</th>\n",
              "    </tr>\n",
              "  </thead>\n",
              "  <tbody>\n",
              "    <tr>\n",
              "      <th>0</th>\n",
              "      <td>1</td>\n",
              "      <td>0.691658</td>\n",
              "      <td>1</td>\n",
              "      <td>0.724993</td>\n",
              "      <td>1</td>\n",
              "      <td>0.701576</td>\n",
              "      <td>1</td>\n",
              "      <td>0.722919</td>\n",
              "    </tr>\n",
              "    <tr>\n",
              "      <th>1</th>\n",
              "      <td>2</td>\n",
              "      <td>0.750519</td>\n",
              "      <td>2</td>\n",
              "      <td>0.724976</td>\n",
              "      <td>2</td>\n",
              "      <td>0.751555</td>\n",
              "      <td>2</td>\n",
              "      <td>0.724487</td>\n",
              "    </tr>\n",
              "    <tr>\n",
              "      <th>2</th>\n",
              "      <td>3</td>\n",
              "      <td>0.752604</td>\n",
              "      <td>3</td>\n",
              "      <td>0.735913</td>\n",
              "      <td>3</td>\n",
              "      <td>0.752081</td>\n",
              "      <td>3</td>\n",
              "      <td>0.746856</td>\n",
              "    </tr>\n",
              "    <tr>\n",
              "      <th>3</th>\n",
              "      <td>4</td>\n",
              "      <td>0.752601</td>\n",
              "      <td>4</td>\n",
              "      <td>0.735653</td>\n",
              "      <td>4</td>\n",
              "      <td>0.749730</td>\n",
              "      <td>4</td>\n",
              "      <td>0.738510</td>\n",
              "    </tr>\n",
              "    <tr>\n",
              "      <th>4</th>\n",
              "      <td>5</td>\n",
              "      <td>0.752351</td>\n",
              "      <td>5</td>\n",
              "      <td>0.736941</td>\n",
              "      <td>5</td>\n",
              "      <td>0.758076</td>\n",
              "      <td>5</td>\n",
              "      <td>0.730964</td>\n",
              "    </tr>\n",
              "    <tr>\n",
              "      <th>5</th>\n",
              "      <td>6</td>\n",
              "      <td>0.760167</td>\n",
              "      <td>6</td>\n",
              "      <td>0.761210</td>\n",
              "      <td>6</td>\n",
              "      <td>0.758086</td>\n",
              "      <td>6</td>\n",
              "      <td>0.744005</td>\n",
              "    </tr>\n",
              "    <tr>\n",
              "      <th>6</th>\n",
              "      <td>7</td>\n",
              "      <td>0.766688</td>\n",
              "      <td>7</td>\n",
              "      <td>0.771869</td>\n",
              "      <td>7</td>\n",
              "      <td>0.762761</td>\n",
              "      <td>7</td>\n",
              "      <td>0.757532</td>\n",
              "    </tr>\n",
              "    <tr>\n",
              "      <th>7</th>\n",
              "      <td>8</td>\n",
              "      <td>0.769026</td>\n",
              "      <td>8</td>\n",
              "      <td>0.771869</td>\n",
              "      <td>8</td>\n",
              "      <td>0.762249</td>\n",
              "      <td>8</td>\n",
              "      <td>0.756241</td>\n",
              "    </tr>\n",
              "  </tbody>\n",
              "</table>\n",
              "</div>"
            ],
            "text/plain": [
              "  Norm_LR  Result_NLR Stan_LR  ...  Result_NSVC Stan_SVC  Result_SSVC\n",
              "0       1    0.691658       1  ...     0.701576        1     0.722919\n",
              "1       2    0.750519       2  ...     0.751555        2     0.724487\n",
              "2       3    0.752604       3  ...     0.752081        3     0.746856\n",
              "3       4    0.752601       4  ...     0.749730        4     0.738510\n",
              "4       5    0.752351       5  ...     0.758076        5     0.730964\n",
              "5       6    0.760167       6  ...     0.758086        6     0.744005\n",
              "6       7    0.766688       7  ...     0.762761        7     0.757532\n",
              "7       8    0.769026       8  ...     0.762249        8     0.756241\n",
              "\n",
              "[8 rows x 8 columns]"
            ]
          },
          "metadata": {
            "tags": []
          },
          "execution_count": 54
        }
      ]
    },
    {
      "cell_type": "markdown",
      "metadata": {
        "id": "cxB0PzS28dai"
      },
      "source": [
        "##### Data dengan mean"
      ]
    },
    {
      "cell_type": "code",
      "metadata": {
        "colab": {
          "base_uri": "https://localhost:8080/",
          "height": 297
        },
        "id": "IFVDdrI8vHxm",
        "outputId": "2b03c494-167c-4050-dfe3-9bfbf17214ef"
      },
      "source": [
        "tabel3 = pengujian_reduksi_dimensi(df_mean)\n",
        "tabel3"
      ],
      "execution_count": null,
      "outputs": [
        {
          "output_type": "execute_result",
          "data": {
            "text/html": [
              "<div>\n",
              "<style scoped>\n",
              "    .dataframe tbody tr th:only-of-type {\n",
              "        vertical-align: middle;\n",
              "    }\n",
              "\n",
              "    .dataframe tbody tr th {\n",
              "        vertical-align: top;\n",
              "    }\n",
              "\n",
              "    .dataframe thead th {\n",
              "        text-align: right;\n",
              "    }\n",
              "</style>\n",
              "<table border=\"1\" class=\"dataframe\">\n",
              "  <thead>\n",
              "    <tr style=\"text-align: right;\">\n",
              "      <th></th>\n",
              "      <th>Norm_LR</th>\n",
              "      <th>Result_NLR</th>\n",
              "      <th>Stan_LR</th>\n",
              "      <th>Result_SLR</th>\n",
              "      <th>Norm_SVC</th>\n",
              "      <th>Result_NSVC</th>\n",
              "      <th>Stan_SVC</th>\n",
              "      <th>Result_SSVC</th>\n",
              "    </tr>\n",
              "  </thead>\n",
              "  <tbody>\n",
              "    <tr>\n",
              "      <th>0</th>\n",
              "      <td>1</td>\n",
              "      <td>0.691394</td>\n",
              "      <td>1</td>\n",
              "      <td>0.727061</td>\n",
              "      <td>1</td>\n",
              "      <td>0.701576</td>\n",
              "      <td>1</td>\n",
              "      <td>0.726288</td>\n",
              "    </tr>\n",
              "    <tr>\n",
              "      <th>1</th>\n",
              "      <td>2</td>\n",
              "      <td>0.753380</td>\n",
              "      <td>2</td>\n",
              "      <td>0.726794</td>\n",
              "      <td>2</td>\n",
              "      <td>0.750513</td>\n",
              "      <td>2</td>\n",
              "      <td>0.726818</td>\n",
              "    </tr>\n",
              "    <tr>\n",
              "      <th>2</th>\n",
              "      <td>3</td>\n",
              "      <td>0.757567</td>\n",
              "      <td>3</td>\n",
              "      <td>0.736435</td>\n",
              "      <td>3</td>\n",
              "      <td>0.752085</td>\n",
              "      <td>3</td>\n",
              "      <td>0.746593</td>\n",
              "    </tr>\n",
              "    <tr>\n",
              "      <th>3</th>\n",
              "      <td>4</td>\n",
              "      <td>0.758869</td>\n",
              "      <td>4</td>\n",
              "      <td>0.735386</td>\n",
              "      <td>4</td>\n",
              "      <td>0.751039</td>\n",
              "      <td>4</td>\n",
              "      <td>0.734098</td>\n",
              "    </tr>\n",
              "    <tr>\n",
              "      <th>4</th>\n",
              "      <td>5</td>\n",
              "      <td>0.754959</td>\n",
              "      <td>5</td>\n",
              "      <td>0.736938</td>\n",
              "      <td>5</td>\n",
              "      <td>0.755977</td>\n",
              "      <td>5</td>\n",
              "      <td>0.731234</td>\n",
              "    </tr>\n",
              "    <tr>\n",
              "      <th>5</th>\n",
              "      <td>6</td>\n",
              "      <td>0.756781</td>\n",
              "      <td>6</td>\n",
              "      <td>0.762519</td>\n",
              "      <td>6</td>\n",
              "      <td>0.755984</td>\n",
              "      <td>6</td>\n",
              "      <td>0.747392</td>\n",
              "    </tr>\n",
              "    <tr>\n",
              "      <th>6</th>\n",
              "      <td>7</td>\n",
              "      <td>0.766948</td>\n",
              "      <td>7</td>\n",
              "      <td>0.771603</td>\n",
              "      <td>7</td>\n",
              "      <td>0.761989</td>\n",
              "      <td>7</td>\n",
              "      <td>0.757536</td>\n",
              "    </tr>\n",
              "    <tr>\n",
              "      <th>7</th>\n",
              "      <td>8</td>\n",
              "      <td>0.769282</td>\n",
              "      <td>8</td>\n",
              "      <td>0.772389</td>\n",
              "      <td>8</td>\n",
              "      <td>0.764586</td>\n",
              "      <td>8</td>\n",
              "      <td>0.759600</td>\n",
              "    </tr>\n",
              "  </tbody>\n",
              "</table>\n",
              "</div>"
            ],
            "text/plain": [
              "  Norm_LR  Result_NLR Stan_LR  ...  Result_NSVC Stan_SVC  Result_SSVC\n",
              "0       1    0.691394       1  ...     0.701576        1     0.726288\n",
              "1       2    0.753380       2  ...     0.750513        2     0.726818\n",
              "2       3    0.757567       3  ...     0.752085        3     0.746593\n",
              "3       4    0.758869       4  ...     0.751039        4     0.734098\n",
              "4       5    0.754959       5  ...     0.755977        5     0.731234\n",
              "5       6    0.756781       6  ...     0.755984        6     0.747392\n",
              "6       7    0.766948       7  ...     0.761989        7     0.757536\n",
              "7       8    0.769282       8  ...     0.764586        8     0.759600\n",
              "\n",
              "[8 rows x 8 columns]"
            ]
          },
          "metadata": {
            "tags": []
          },
          "execution_count": 55
        }
      ]
    },
    {
      "cell_type": "markdown",
      "metadata": {
        "id": "e8el_Awm8gqL"
      },
      "source": [
        "##### Data normal"
      ]
    },
    {
      "cell_type": "code",
      "metadata": {
        "colab": {
          "base_uri": "https://localhost:8080/",
          "height": 297
        },
        "id": "EcyIBjkPywza",
        "outputId": "0f09582c-8a1f-464a-d68b-09be1d2cedd4"
      },
      "source": [
        "tabel4 = pengujian_reduksi_dimensi(df_normal)\n",
        "tabel4"
      ],
      "execution_count": null,
      "outputs": [
        {
          "output_type": "execute_result",
          "data": {
            "text/html": [
              "<div>\n",
              "<style scoped>\n",
              "    .dataframe tbody tr th:only-of-type {\n",
              "        vertical-align: middle;\n",
              "    }\n",
              "\n",
              "    .dataframe tbody tr th {\n",
              "        vertical-align: top;\n",
              "    }\n",
              "\n",
              "    .dataframe thead th {\n",
              "        text-align: right;\n",
              "    }\n",
              "</style>\n",
              "<table border=\"1\" class=\"dataframe\">\n",
              "  <thead>\n",
              "    <tr style=\"text-align: right;\">\n",
              "      <th></th>\n",
              "      <th>Norm_LR</th>\n",
              "      <th>Result_NLR</th>\n",
              "      <th>Stan_LR</th>\n",
              "      <th>Result_SLR</th>\n",
              "      <th>Norm_SVC</th>\n",
              "      <th>Result_NSVC</th>\n",
              "      <th>Stan_SVC</th>\n",
              "      <th>Result_SSVC</th>\n",
              "    </tr>\n",
              "  </thead>\n",
              "  <tbody>\n",
              "    <tr>\n",
              "      <th>0</th>\n",
              "      <td>1</td>\n",
              "      <td>0.768821</td>\n",
              "      <td>1</td>\n",
              "      <td>0.748410</td>\n",
              "      <td>1</td>\n",
              "      <td>0.771385</td>\n",
              "      <td>1</td>\n",
              "      <td>0.751474</td>\n",
              "    </tr>\n",
              "    <tr>\n",
              "      <th>1</th>\n",
              "      <td>2</td>\n",
              "      <td>0.776474</td>\n",
              "      <td>2</td>\n",
              "      <td>0.746949</td>\n",
              "      <td>2</td>\n",
              "      <td>0.778500</td>\n",
              "      <td>2</td>\n",
              "      <td>0.757179</td>\n",
              "    </tr>\n",
              "    <tr>\n",
              "      <th>2</th>\n",
              "      <td>3</td>\n",
              "      <td>0.782564</td>\n",
              "      <td>3</td>\n",
              "      <td>0.772372</td>\n",
              "      <td>3</td>\n",
              "      <td>0.766231</td>\n",
              "      <td>3</td>\n",
              "      <td>0.748910</td>\n",
              "    </tr>\n",
              "    <tr>\n",
              "      <th>3</th>\n",
              "      <td>4</td>\n",
              "      <td>0.780513</td>\n",
              "      <td>4</td>\n",
              "      <td>0.772397</td>\n",
              "      <td>4</td>\n",
              "      <td>0.757013</td>\n",
              "      <td>4</td>\n",
              "      <td>0.742244</td>\n",
              "    </tr>\n",
              "    <tr>\n",
              "      <th>4</th>\n",
              "      <td>5</td>\n",
              "      <td>0.778987</td>\n",
              "      <td>5</td>\n",
              "      <td>0.768321</td>\n",
              "      <td>5</td>\n",
              "      <td>0.747846</td>\n",
              "      <td>5</td>\n",
              "      <td>0.732603</td>\n",
              "    </tr>\n",
              "    <tr>\n",
              "      <th>5</th>\n",
              "      <td>6</td>\n",
              "      <td>0.784641</td>\n",
              "      <td>6</td>\n",
              "      <td>0.777423</td>\n",
              "      <td>6</td>\n",
              "      <td>0.758500</td>\n",
              "      <td>6</td>\n",
              "      <td>0.744282</td>\n",
              "    </tr>\n",
              "    <tr>\n",
              "      <th>6</th>\n",
              "      <td>7</td>\n",
              "      <td>0.786179</td>\n",
              "      <td>7</td>\n",
              "      <td>0.778449</td>\n",
              "      <td>7</td>\n",
              "      <td>0.768231</td>\n",
              "      <td>7</td>\n",
              "      <td>0.741192</td>\n",
              "    </tr>\n",
              "    <tr>\n",
              "      <th>7</th>\n",
              "      <td>8</td>\n",
              "      <td>0.783090</td>\n",
              "      <td>8</td>\n",
              "      <td>0.778436</td>\n",
              "      <td>8</td>\n",
              "      <td>0.772795</td>\n",
              "      <td>8</td>\n",
              "      <td>0.759564</td>\n",
              "    </tr>\n",
              "  </tbody>\n",
              "</table>\n",
              "</div>"
            ],
            "text/plain": [
              "  Norm_LR  Result_NLR Stan_LR  ...  Result_NSVC Stan_SVC  Result_SSVC\n",
              "0       1    0.768821       1  ...     0.771385        1     0.751474\n",
              "1       2    0.776474       2  ...     0.778500        2     0.757179\n",
              "2       3    0.782564       3  ...     0.766231        3     0.748910\n",
              "3       4    0.780513       4  ...     0.757013        4     0.742244\n",
              "4       5    0.778987       5  ...     0.747846        5     0.732603\n",
              "5       6    0.784641       6  ...     0.758500        6     0.744282\n",
              "6       7    0.786179       7  ...     0.768231        7     0.741192\n",
              "7       8    0.783090       8  ...     0.772795        8     0.759564\n",
              "\n",
              "[8 rows x 8 columns]"
            ]
          },
          "metadata": {
            "tags": []
          },
          "execution_count": 56
        }
      ]
    },
    {
      "cell_type": "markdown",
      "metadata": {
        "id": "HS-V3CpZEAI4"
      },
      "source": [
        "##### Data normal dan no outliers"
      ]
    },
    {
      "cell_type": "code",
      "metadata": {
        "colab": {
          "base_uri": "https://localhost:8080/",
          "height": 297
        },
        "id": "Y9jhE4mkD_M0",
        "outputId": "29c4f56c-0ade-4c05-f99e-5bb5aaa8ec1b"
      },
      "source": [
        "tabel5 = pengujian_reduksi_dimensi(df_no_outliers)\n",
        "tabel5"
      ],
      "execution_count": null,
      "outputs": [
        {
          "output_type": "execute_result",
          "data": {
            "text/html": [
              "<div>\n",
              "<style scoped>\n",
              "    .dataframe tbody tr th:only-of-type {\n",
              "        vertical-align: middle;\n",
              "    }\n",
              "\n",
              "    .dataframe tbody tr th {\n",
              "        vertical-align: top;\n",
              "    }\n",
              "\n",
              "    .dataframe thead th {\n",
              "        text-align: right;\n",
              "    }\n",
              "</style>\n",
              "<table border=\"1\" class=\"dataframe\">\n",
              "  <thead>\n",
              "    <tr style=\"text-align: right;\">\n",
              "      <th></th>\n",
              "      <th>Norm_LR</th>\n",
              "      <th>Result_NLR</th>\n",
              "      <th>Stan_LR</th>\n",
              "      <th>Result_SLR</th>\n",
              "      <th>Norm_SVC</th>\n",
              "      <th>Result_NSVC</th>\n",
              "      <th>Stan_SVC</th>\n",
              "      <th>Result_SSVC</th>\n",
              "    </tr>\n",
              "  </thead>\n",
              "  <tbody>\n",
              "    <tr>\n",
              "      <th>0</th>\n",
              "      <td>1</td>\n",
              "      <td>0.735722</td>\n",
              "      <td>1</td>\n",
              "      <td>0.748691</td>\n",
              "      <td>1</td>\n",
              "      <td>0.729528</td>\n",
              "      <td>1</td>\n",
              "      <td>0.754831</td>\n",
              "    </tr>\n",
              "    <tr>\n",
              "      <th>1</th>\n",
              "      <td>2</td>\n",
              "      <td>0.775587</td>\n",
              "      <td>2</td>\n",
              "      <td>0.747665</td>\n",
              "      <td>2</td>\n",
              "      <td>0.769879</td>\n",
              "      <td>2</td>\n",
              "      <td>0.758529</td>\n",
              "    </tr>\n",
              "    <tr>\n",
              "      <th>2</th>\n",
              "      <td>3</td>\n",
              "      <td>0.783306</td>\n",
              "      <td>3</td>\n",
              "      <td>0.772996</td>\n",
              "      <td>3</td>\n",
              "      <td>0.768893</td>\n",
              "      <td>3</td>\n",
              "      <td>0.754345</td>\n",
              "    </tr>\n",
              "    <tr>\n",
              "      <th>3</th>\n",
              "      <td>4</td>\n",
              "      <td>0.782281</td>\n",
              "      <td>4</td>\n",
              "      <td>0.770378</td>\n",
              "      <td>4</td>\n",
              "      <td>0.768367</td>\n",
              "      <td>4</td>\n",
              "      <td>0.751673</td>\n",
              "    </tr>\n",
              "    <tr>\n",
              "      <th>4</th>\n",
              "      <td>5</td>\n",
              "      <td>0.784345</td>\n",
              "      <td>5</td>\n",
              "      <td>0.771930</td>\n",
              "      <td>5</td>\n",
              "      <td>0.760594</td>\n",
              "      <td>5</td>\n",
              "      <td>0.744467</td>\n",
              "    </tr>\n",
              "    <tr>\n",
              "      <th>5</th>\n",
              "      <td>6</td>\n",
              "      <td>0.790553</td>\n",
              "      <td>6</td>\n",
              "      <td>0.787530</td>\n",
              "      <td>6</td>\n",
              "      <td>0.769879</td>\n",
              "      <td>6</td>\n",
              "      <td>0.756397</td>\n",
              "    </tr>\n",
              "    <tr>\n",
              "      <th>6</th>\n",
              "      <td>7</td>\n",
              "      <td>0.796289</td>\n",
              "      <td>7</td>\n",
              "      <td>0.785924</td>\n",
              "      <td>7</td>\n",
              "      <td>0.782834</td>\n",
              "      <td>7</td>\n",
              "      <td>0.756370</td>\n",
              "    </tr>\n",
              "    <tr>\n",
              "      <th>7</th>\n",
              "      <td>8</td>\n",
              "      <td>0.789028</td>\n",
              "      <td>8</td>\n",
              "      <td>0.785924</td>\n",
              "      <td>8</td>\n",
              "      <td>0.777072</td>\n",
              "      <td>8</td>\n",
              "      <td>0.762038</td>\n",
              "    </tr>\n",
              "  </tbody>\n",
              "</table>\n",
              "</div>"
            ],
            "text/plain": [
              "  Norm_LR  Result_NLR Stan_LR  ...  Result_NSVC Stan_SVC  Result_SSVC\n",
              "0       1    0.735722       1  ...     0.729528        1     0.754831\n",
              "1       2    0.775587       2  ...     0.769879        2     0.758529\n",
              "2       3    0.783306       3  ...     0.768893        3     0.754345\n",
              "3       4    0.782281       4  ...     0.768367        4     0.751673\n",
              "4       5    0.784345       5  ...     0.760594        5     0.744467\n",
              "5       6    0.790553       6  ...     0.769879        6     0.756397\n",
              "6       7    0.796289       7  ...     0.782834        7     0.756370\n",
              "7       8    0.789028       8  ...     0.777072        8     0.762038\n",
              "\n",
              "[8 rows x 8 columns]"
            ]
          },
          "metadata": {
            "tags": []
          },
          "execution_count": 57
        }
      ]
    },
    {
      "cell_type": "markdown",
      "metadata": {
        "id": "s_mpOoAiNpoS"
      },
      "source": [
        "### Final model\n",
        "\n",
        "model yang dipilih berupa data normal_no_outliers dengan normalisasi sebagai model final karena mendapatkan akurasi yang tinggi"
      ]
    },
    {
      "cell_type": "code",
      "metadata": {
        "id": "DY8hhOFPNdot"
      },
      "source": [
        "X, y = dataset(df_no_outliers)"
      ],
      "execution_count": null,
      "outputs": []
    },
    {
      "cell_type": "markdown",
      "metadata": {
        "id": "HlA6HFk4E72_"
      },
      "source": [
        "#### LogisticRegression\n"
      ]
    },
    {
      "cell_type": "markdown",
      "metadata": {
        "id": "jTwkNVQjFZA0"
      },
      "source": [
        "PCA"
      ]
    },
    {
      "cell_type": "code",
      "metadata": {
        "colab": {
          "base_uri": "https://localhost:8080/"
        },
        "id": "9qu_zoPgOeiP",
        "outputId": "f0d7ac17-08f6-4484-9864-767ea023419f"
      },
      "source": [
        "# menggunakan dimensi n = 7\n",
        "stepLR_pca =  [('norm', MinMaxScaler()), ('pca', PCA(n_components=7)), ('LR', LogisticRegression())]\n",
        "modelLR_pca = Pipeline(steps = stepLR_pca)\n",
        "modelLR_pca.fit(X, y)"
      ],
      "execution_count": null,
      "outputs": [
        {
          "output_type": "execute_result",
          "data": {
            "text/plain": [
              "Pipeline(memory=None,\n",
              "         steps=[('norm', MinMaxScaler(copy=True, feature_range=(0, 1))),\n",
              "                ('pca',\n",
              "                 PCA(copy=True, iterated_power='auto', n_components=7,\n",
              "                     random_state=None, svd_solver='auto', tol=0.0,\n",
              "                     whiten=False)),\n",
              "                ('LR',\n",
              "                 LogisticRegression(C=1.0, class_weight=None, dual=False,\n",
              "                                    fit_intercept=True, intercept_scaling=1,\n",
              "                                    l1_ratio=None, max_iter=100,\n",
              "                                    multi_class='auto', n_jobs=None,\n",
              "                                    penalty='l2', random_state=None,\n",
              "                                    solver='lbfgs', tol=0.0001, verbose=0,\n",
              "                                    warm_start=False))],\n",
              "         verbose=False)"
            ]
          },
          "metadata": {
            "tags": []
          },
          "execution_count": 74
        }
      ]
    },
    {
      "cell_type": "code",
      "metadata": {
        "id": "oteywYIOP_af"
      },
      "source": [
        "y_predictLR_pca = modelLR_pca.predict(X)\n",
        "acc_lr_pca = accuracy_score(y, y_predictLR_pca)"
      ],
      "execution_count": null,
      "outputs": []
    },
    {
      "cell_type": "markdown",
      "metadata": {
        "id": "S6o9CI9MFVlH"
      },
      "source": [
        "No PCA"
      ]
    },
    {
      "cell_type": "code",
      "metadata": {
        "colab": {
          "base_uri": "https://localhost:8080/"
        },
        "id": "QPKCrCK2E3LO",
        "outputId": "cec33c8e-2a8b-4e32-8c80-60b9a5fee645"
      },
      "source": [
        "stepLR = [('norm', MinMaxScaler()), ('LR', LogisticRegression())]\n",
        "modelLR = Pipeline(steps=stepLR)\n",
        "modelLR.fit(X, y)"
      ],
      "execution_count": null,
      "outputs": [
        {
          "output_type": "execute_result",
          "data": {
            "text/plain": [
              "Pipeline(memory=None,\n",
              "         steps=[('norm', MinMaxScaler(copy=True, feature_range=(0, 1))),\n",
              "                ('LR',\n",
              "                 LogisticRegression(C=1.0, class_weight=None, dual=False,\n",
              "                                    fit_intercept=True, intercept_scaling=1,\n",
              "                                    l1_ratio=None, max_iter=100,\n",
              "                                    multi_class='auto', n_jobs=None,\n",
              "                                    penalty='l2', random_state=None,\n",
              "                                    solver='lbfgs', tol=0.0001, verbose=0,\n",
              "                                    warm_start=False))],\n",
              "         verbose=False)"
            ]
          },
          "metadata": {
            "tags": []
          },
          "execution_count": 76
        }
      ]
    },
    {
      "cell_type": "code",
      "metadata": {
        "id": "LeimFdIyFxSL"
      },
      "source": [
        "y_predictLR = modelLR.predict(X)\n",
        "acc_lr = accuracy_score(y, y_predictLR)"
      ],
      "execution_count": null,
      "outputs": []
    },
    {
      "cell_type": "markdown",
      "metadata": {
        "id": "zvAZOXWWFKQh"
      },
      "source": [
        "#### SVM (SVC)"
      ]
    },
    {
      "cell_type": "markdown",
      "metadata": {
        "id": "iDa7iF07F9xr"
      },
      "source": [
        "PCA"
      ]
    },
    {
      "cell_type": "code",
      "metadata": {
        "colab": {
          "base_uri": "https://localhost:8080/"
        },
        "id": "okM9DzOeOmmX",
        "outputId": "77afb9fe-2b52-4f57-cc00-879e90c978c1"
      },
      "source": [
        "# menggunakan dimensi n = 7\n",
        "stepSVC_pca = [('norm', MinMaxScaler()), ('pca', PCA(n_components=7)), ('SVC', SVC())]\n",
        "modelSVC_pca = Pipeline(steps = stepSVC_pca)\n",
        "modelSVC_pca.fit(X, y)"
      ],
      "execution_count": null,
      "outputs": [
        {
          "output_type": "execute_result",
          "data": {
            "text/plain": [
              "Pipeline(memory=None,\n",
              "         steps=[('norm', MinMaxScaler(copy=True, feature_range=(0, 1))),\n",
              "                ('pca',\n",
              "                 PCA(copy=True, iterated_power='auto', n_components=7,\n",
              "                     random_state=None, svd_solver='auto', tol=0.0,\n",
              "                     whiten=False)),\n",
              "                ('SVC',\n",
              "                 SVC(C=1.0, break_ties=False, cache_size=200, class_weight=None,\n",
              "                     coef0=0.0, decision_function_shape='ovr', degree=3,\n",
              "                     gamma='scale', kernel='rbf', max_iter=-1,\n",
              "                     probability=False, random_state=None, shrinking=True,\n",
              "                     tol=0.001, verbose=False))],\n",
              "         verbose=False)"
            ]
          },
          "metadata": {
            "tags": []
          },
          "execution_count": 81
        }
      ]
    },
    {
      "cell_type": "code",
      "metadata": {
        "id": "ZR4sZDA6Qj41"
      },
      "source": [
        "y_predictSVC_pca = modelSVC_pca.predict(X)\n",
        "acc_svc_pca = accuracy_score(y, y_predictSVC_pca)"
      ],
      "execution_count": null,
      "outputs": []
    },
    {
      "cell_type": "markdown",
      "metadata": {
        "id": "3ipmiWG2F_8m"
      },
      "source": [
        "No PCA"
      ]
    },
    {
      "cell_type": "code",
      "metadata": {
        "colab": {
          "base_uri": "https://localhost:8080/"
        },
        "id": "Vr2UM9ErGBrx",
        "outputId": "64e99c9c-d444-457c-d94f-6ef24ff584eb"
      },
      "source": [
        "stepSVC = [('norm', MinMaxScaler()), ('SVC', SVC())]\n",
        "modelSVC = Pipeline(steps = stepSVC)\n",
        "modelSVC.fit(X,y)"
      ],
      "execution_count": null,
      "outputs": [
        {
          "output_type": "execute_result",
          "data": {
            "text/plain": [
              "Pipeline(memory=None,\n",
              "         steps=[('norm', MinMaxScaler(copy=True, feature_range=(0, 1))),\n",
              "                ('SVC',\n",
              "                 SVC(C=1.0, break_ties=False, cache_size=200, class_weight=None,\n",
              "                     coef0=0.0, decision_function_shape='ovr', degree=3,\n",
              "                     gamma='scale', kernel='rbf', max_iter=-1,\n",
              "                     probability=False, random_state=None, shrinking=True,\n",
              "                     tol=0.001, verbose=False))],\n",
              "         verbose=False)"
            ]
          },
          "metadata": {
            "tags": []
          },
          "execution_count": 79
        }
      ]
    },
    {
      "cell_type": "code",
      "metadata": {
        "id": "n7CjYgLVGPgo"
      },
      "source": [
        "y_predictSVC = modelSVC.predict(X)\n",
        "acc_svc = accuracy_score(y, y_predictSVC)"
      ],
      "execution_count": null,
      "outputs": []
    },
    {
      "cell_type": "markdown",
      "metadata": {
        "id": "2h7P2NtbQwvE"
      },
      "source": [
        "# Kesimpulan"
      ]
    },
    {
      "cell_type": "markdown",
      "metadata": {
        "id": "-SB-QtuqRHmw"
      },
      "source": [
        "* Metode PCA sangat sensitif terhadap data outliers\n",
        "\n",
        "* Reduksi dimensi membantu model untuk mempercepat proses\n",
        "\n",
        "* Reduksi dimensi dapat meningkatkan accuracy\n",
        "\n",
        "* Reduksi dimensi mengurangi overfitting pada model"
      ]
    },
    {
      "cell_type": "code",
      "metadata": {
        "colab": {
          "base_uri": "https://localhost:8080/",
          "height": 173
        },
        "id": "Ex3pPisFQzpU",
        "outputId": "edf23733-212e-425b-c823-a089abe78164"
      },
      "source": [
        "acc = [acc_lr_pca, acc_lr, acc_svc_pca, acc_svc]\n",
        "model = ['LR_PCA', \"LR\", 'SVC_PCA', 'SVC']\n",
        "tabel_akhir = pd.DataFrame({'Model': model, \"Score\": acc})\n",
        "tabel_akhir"
      ],
      "execution_count": null,
      "outputs": [
        {
          "output_type": "execute_result",
          "data": {
            "text/html": [
              "<div>\n",
              "<style scoped>\n",
              "    .dataframe tbody tr th:only-of-type {\n",
              "        vertical-align: middle;\n",
              "    }\n",
              "\n",
              "    .dataframe tbody tr th {\n",
              "        vertical-align: top;\n",
              "    }\n",
              "\n",
              "    .dataframe thead th {\n",
              "        text-align: right;\n",
              "    }\n",
              "</style>\n",
              "<table border=\"1\" class=\"dataframe\">\n",
              "  <thead>\n",
              "    <tr style=\"text-align: right;\">\n",
              "      <th></th>\n",
              "      <th>Model</th>\n",
              "      <th>Score</th>\n",
              "    </tr>\n",
              "  </thead>\n",
              "  <tbody>\n",
              "    <tr>\n",
              "      <th>0</th>\n",
              "      <td>LR_PCA</td>\n",
              "      <td>0.797927</td>\n",
              "    </tr>\n",
              "    <tr>\n",
              "      <th>1</th>\n",
              "      <td>LR</td>\n",
              "      <td>0.797927</td>\n",
              "    </tr>\n",
              "    <tr>\n",
              "      <th>2</th>\n",
              "      <td>SVC_PCA</td>\n",
              "      <td>0.834197</td>\n",
              "    </tr>\n",
              "    <tr>\n",
              "      <th>3</th>\n",
              "      <td>SVC</td>\n",
              "      <td>0.823834</td>\n",
              "    </tr>\n",
              "  </tbody>\n",
              "</table>\n",
              "</div>"
            ],
            "text/plain": [
              "     Model     Score\n",
              "0   LR_PCA  0.797927\n",
              "1       LR  0.797927\n",
              "2  SVC_PCA  0.834197\n",
              "3      SVC  0.823834"
            ]
          },
          "metadata": {
            "tags": []
          },
          "execution_count": 83
        }
      ]
    },
    {
      "cell_type": "markdown",
      "metadata": {
        "id": "Ltgvtxm_qCiJ"
      },
      "source": [
        "# Reference"
      ]
    },
    {
      "cell_type": "markdown",
      "metadata": {
        "id": "jVdw0rstf9RX"
      },
      "source": [
        "https://towardsdatascience.com/machine-learning-workflow-on-diabetes-data-part-01-573864fcc6b8\n",
        "\n",
        "https://www.kaggle.com/saurabh00007/diabetescsv\n",
        "\n",
        "https://stackoverflow.com/questions/47693021/editing-row-of-one-dataframe-appears-to-affect-another-pandas-python\n",
        "\n",
        "https://www.w3schools.com/python/python_ml_mean_median_mode.asp\n",
        "\n",
        "https://machinelearningmastery.com/standardscaler-and-minmaxscaler-transforms-in-python/\n",
        "\n",
        "https://machinelearningmastery.com/principal-components-analysis-for-dimensionality-reduction-in-python/\n",
        "\n",
        "https://stackoverflow.com/questions/48508036/sklearn-stratifiedkfold-valueerror-supported-target-types-are-binary-mul/48512157\n",
        "\n",
        "https://medium.com/analytics-vidhya/outlier-treatment-9bbe87384d02\n",
        "\n",
        "https://machinelearningmastery.com/calculate-feature-importance-with-python/#:~:text=and%20ElasticNet%20models.-,Logistic%20Regression%20Feature%20Importance,a%20crude%20feature%20importance%20score."
      ]
    }
  ]
}